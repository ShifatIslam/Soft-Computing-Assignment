{
  "nbformat": 4,
  "nbformat_minor": 0,
  "metadata": {
    "colab": {
      "name": "Assignment2_neural.ipynb",
      "provenance": [],
      "collapsed_sections": []
    },
    "kernelspec": {
      "display_name": "Python 3",
      "name": "python3"
    },
    "language_info": {
      "name": "python"
    },
    "accelerator": "GPU"
  },
  "cells": [
    {
      "cell_type": "markdown",
      "metadata": {
        "id": "h8GRLRyGYxgK"
      },
      "source": [
        "## Dataset 2"
      ]
    },
    {
      "cell_type": "code",
      "metadata": {
        "colab": {
          "base_uri": "https://localhost:8080/"
        },
        "id": "fz-VgZ7I3DoL",
        "outputId": "840520c2-b2e1-4dfe-f85b-605a52857377"
      },
      "source": [
        "from google.colab import drive\n",
        "drive.mount('/content/drive')"
      ],
      "execution_count": 1,
      "outputs": [
        {
          "output_type": "stream",
          "name": "stdout",
          "text": [
            "Mounted at /content/drive\n"
          ]
        }
      ]
    },
    {
      "cell_type": "code",
      "metadata": {
        "id": "CE41_HrNYS-J"
      },
      "source": [
        "import numpy as np\n",
        "import pandas as pd\n",
        "import torch\n",
        "import torch.nn as nn\n",
        "import torch.nn.functional as F\n",
        "import torch.optim as optim\n",
        "from torch.utils.data import Dataset\n",
        "from torch.utils.data.sampler import SubsetRandomSampler\n",
        "import matplotlib\n",
        "import matplotlib.pyplot as plt\n",
        "from PIL import Image\n",
        "from torchvision import datasets, transforms, models\n",
        "from torch.autograd import Variable\n",
        "from zipfile import ZipFile\n",
        "import os\n",
        "from os import path\n",
        "import shutil\n",
        "import math;\n",
        "from matplotlib.pyplot import imshow"
      ],
      "execution_count": 72,
      "outputs": []
    },
    {
      "cell_type": "code",
      "metadata": {
        "colab": {
          "base_uri": "https://localhost:8080/"
        },
        "id": "0jsORN7VYSZG",
        "outputId": "da8d2cbd-a6ed-41de-c2b7-71bd75855173"
      },
      "source": [
        "train_df = pd.read_csv(\"/content/drive/MyDrive/Colab/Softcomputing/Dataset_2/verification_train.csv\");\n",
        "print(train_df.head());"
      ],
      "execution_count": 98,
      "outputs": [
        {
          "output_type": "stream",
          "name": "stdout",
          "text": [
            "   label  pixel1  pixel2  pixel3  ...  pixel781  pixel782  pixel783  pixel784\n",
            "0      2       0       0       0  ...         0         0         0         0\n",
            "1      9       0       0       0  ...         0         0         0         0\n",
            "2      6       0       0       0  ...         0         0         0         0\n",
            "3      0       0       0       0  ...         0         0         0         0\n",
            "4      3       0       0       0  ...         0         0         0         0\n",
            "\n",
            "[5 rows x 785 columns]\n"
          ]
        }
      ]
    },
    {
      "cell_type": "code",
      "metadata": {
        "colab": {
          "base_uri": "https://localhost:8080/"
        },
        "id": "RGzDuXNZYSt7",
        "outputId": "dd065f71-cb9a-451c-f27e-e1193007b9d6"
      },
      "source": [
        "test_df = pd.read_csv(\"/content/drive/MyDrive/Colab/Softcomputing/Dataset_2/verification_test.csv\");\n",
        "print(test_df.head());"
      ],
      "execution_count": 99,
      "outputs": [
        {
          "output_type": "stream",
          "name": "stdout",
          "text": [
            "   label  pixel1  pixel2  pixel3  ...  pixel781  pixel782  pixel783  pixel784\n",
            "0      0       0       0       0  ...         0         0         0         0\n",
            "1      1       0       0       0  ...         0         0         0         0\n",
            "2      2       0       0       0  ...        31         0         0         0\n",
            "3      2       0       0       0  ...       222        56         0         0\n",
            "4      3       0       0       0  ...         0         0         0         0\n",
            "\n",
            "[5 rows x 785 columns]\n"
          ]
        }
      ]
    },
    {
      "cell_type": "code",
      "metadata": {
        "colab": {
          "base_uri": "https://localhost:8080/",
          "height": 415
        },
        "id": "Mxu3llwiYTF2",
        "outputId": "c8ec4891-0a83-45b9-ea8b-3dee590900f5"
      },
      "source": [
        "i = 7   # set any valid index of an image\n",
        "\n",
        "label = train_df.values[i][0]  # retrieve label from first colum in dataframe\n",
        "print(\"label:\",label)\n",
        "\n",
        "im_buf = train_df.values[i][1:]  # create flat array of only the pixels of the given image\n",
        "print(len(im_buf)); \n",
        "\n",
        "axis_len = int(math.sqrt(im_buf.shape[0])) # calculate the dimensions of the square image\n",
        "print(\"Dimension:\",axis_len);\n",
        "\n",
        "im_array = np.int8(np.reshape(im_buf, (axis_len, axis_len))) # create a 2D array from flat array\n",
        "img = Image.fromarray(im_array, 'L')  # convert to a PIL.Image object ('L' is for grayscale)\n",
        "imshow(np.asarray(img))"
      ],
      "execution_count": 100,
      "outputs": [
        {
          "output_type": "stream",
          "name": "stdout",
          "text": [
            "label: 5\n",
            "784\n",
            "Dimension: 28\n"
          ]
        },
        {
          "output_type": "execute_result",
          "data": {
            "text/plain": [
              "<matplotlib.image.AxesImage at 0x7fb7890c9950>"
            ]
          },
          "metadata": {},
          "execution_count": 100
        },
        {
          "output_type": "display_data",
          "data": {
            "image/png": "[encoded data removed]",
            "text/plain": [
              "<Figure size 576x396 with 1 Axes>"
            ]
          },
          "metadata": {}
        }
      ]
    },
    {
      "cell_type": "code",
      "metadata": {
        "id": "vrRnTZnQOPWJ"
      },
      "source": [
        "train_df['pixel12'] = train_df['pixel12'] / 255;"
      ],
      "execution_count": 76,
      "outputs": []
    },
    {
      "cell_type": "markdown",
      "metadata": {
        "id": "dwZtzMSV9WL4"
      },
      "source": [
        "## data label from dataset 2"
      ]
    },
    {
      "cell_type": "code",
      "metadata": {
        "id": "8RFmOuNwTq_h",
        "colab": {
          "base_uri": "https://localhost:8080/"
        },
        "outputId": "b2976d26-9c67-4a6f-8430-96badfc36900"
      },
      "source": [
        "test_label=test_df['label']\n",
        "\n",
        "train_label=train_df['label']\n",
        "data_names=[test_label,train_label]\n",
        "all_labels=pd.concat(data_names,ignore_index=True)\n",
        "print(all_labels);"
      ],
      "execution_count": 77,
      "outputs": [
        {
          "output_type": "stream",
          "name": "stdout",
          "text": [
            "0        0\n",
            "1        1\n",
            "2        2\n",
            "3        2\n",
            "4        3\n",
            "        ..\n",
            "69995    9\n",
            "69996    1\n",
            "69997    8\n",
            "69998    8\n",
            "69999    7\n",
            "Name: label, Length: 70000, dtype: int64\n"
          ]
        }
      ]
    },
    {
      "cell_type": "markdown",
      "metadata": {
        "id": "-M5ylR4z9Yow"
      },
      "source": [
        "## image pixels for dataset 2"
      ]
    },
    {
      "cell_type": "code",
      "metadata": {
        "colab": {
          "base_uri": "https://localhost:8080/"
        },
        "id": "gWu16hYBaknl",
        "outputId": "93a798ff-510c-43f1-fbb8-41552dfaea1d"
      },
      "source": [
        "data_name=[test_df,train_df]\n",
        "all_image=pd.concat(data_name,ignore_index=True)\n",
        "all_image=all_image.drop(labels='label',axis=1)\n",
        "print(all_image.shape)\n",
        "print(all_image);"
      ],
      "execution_count": 78,
      "outputs": [
        {
          "output_type": "stream",
          "name": "stdout",
          "text": [
            "(70000, 784)\n",
            "       pixel1  pixel2  pixel3  pixel4  ...  pixel781  pixel782  pixel783  pixel784\n",
            "0           0       0       0       0  ...         0         0         0         0\n",
            "1           0       0       0       0  ...         0         0         0         0\n",
            "2           0       0       0       0  ...        31         0         0         0\n",
            "3           0       0       0       0  ...       222        56         0         0\n",
            "4           0       0       0       0  ...         0         0         0         0\n",
            "...       ...     ...     ...     ...  ...       ...       ...       ...       ...\n",
            "69995       0       0       0       0  ...         0         0         0         0\n",
            "69996       0       0       0       0  ...         0         0         0         0\n",
            "69997       0       0       0       0  ...         0         0         0         0\n",
            "69998       0       0       0       0  ...         0         0         0         0\n",
            "69999       0       0       0       0  ...         0         0         0         0\n",
            "\n",
            "[70000 rows x 784 columns]\n"
          ]
        }
      ]
    },
    {
      "cell_type": "markdown",
      "metadata": {
        "id": "WzIib4MA9c-p"
      },
      "source": [
        "## normalize"
      ]
    },
    {
      "cell_type": "code",
      "metadata": {
        "id": "6ymDGJC4akqE"
      },
      "source": [
        "all_image=all_image/255.0"
      ],
      "execution_count": 79,
      "outputs": []
    },
    {
      "cell_type": "markdown",
      "metadata": {
        "id": "qKTJFXDh9fUh"
      },
      "source": [
        "## reshape image"
      ]
    },
    {
      "cell_type": "code",
      "metadata": {
        "id": "UcfmUmfldVOz"
      },
      "source": [
        "all_image=all_image.values.reshape(-1,28,28,1)"
      ],
      "execution_count": 80,
      "outputs": []
    },
    {
      "cell_type": "markdown",
      "metadata": {
        "id": "VSgyVCGd9iw5"
      },
      "source": [
        "##  print images"
      ]
    },
    {
      "cell_type": "code",
      "metadata": {
        "colab": {
          "base_uri": "https://localhost:8080/",
          "height": 364
        },
        "id": "FX2p9MZUakwV",
        "outputId": "5e0d0194-5f64-4ecd-9785-2088ed689d2e"
      },
      "source": [
        "show_img = all_image[100].reshape(28, 28)\n",
        "plt.imshow(show_img, cmap='gray')\n",
        "print(all_labels[0])"
      ],
      "execution_count": 81,
      "outputs": [
        {
          "output_type": "stream",
          "name": "stdout",
          "text": [
            "0\n"
          ]
        },
        {
          "output_type": "display_data",
          "data": {
            "image/png": "[encoded data removed]",
            "text/plain": [
              "<Figure size 576x396 with 1 Axes>"
            ]
          },
          "metadata": {}
        }
      ]
    },
    {
      "cell_type": "markdown",
      "metadata": {
        "id": "xSZYvcEA9mBD"
      },
      "source": [
        "## train test split"
      ]
    },
    {
      "cell_type": "code",
      "metadata": {
        "id": "Stqr52Emakxz"
      },
      "source": [
        "from sklearn.model_selection import train_test_split\n",
        "X_train, X_test, y_train, y_test = train_test_split(all_image, all_labels, test_size=0.2)"
      ],
      "execution_count": 82,
      "outputs": []
    },
    {
      "cell_type": "markdown",
      "metadata": {
        "id": "m97rNAEK9oDO"
      },
      "source": [
        "## zipped"
      ]
    },
    {
      "cell_type": "code",
      "metadata": {
        "colab": {
          "base_uri": "https://localhost:8080/"
        },
        "id": "QyRhVs40ak3-",
        "outputId": "6a8fac55-2555-4a0a-e177-99d6cde0c1f6"
      },
      "source": [
        "train_dataset_zipped = list(zip(X_train,y_train))\n",
        "test_dataset_zipped = list(zip(X_test,y_test))\n",
        "print(len(train_dataset_zipped))\n",
        "print(len(test_dataset_zipped))\n"
      ],
      "execution_count": 83,
      "outputs": [
        {
          "output_type": "stream",
          "name": "stdout",
          "text": [
            "56000\n",
            "14000\n"
          ]
        }
      ]
    },
    {
      "cell_type": "markdown",
      "metadata": {
        "id": "44IeeV0i9uFY"
      },
      "source": [
        "## Experiment 1 for Dataset 2:"
      ]
    },
    {
      "cell_type": "code",
      "metadata": {
        "id": "C3EMGUdseIHU",
        "colab": {
          "base_uri": "https://localhost:8080/"
        },
        "outputId": "9890c320-2cc8-4bfc-b1e3-c42a4606a0f0"
      },
      "source": [
        "batch_size = 20;\n",
        "num_iters = 20000;\n",
        "input_dim = 28*28; #num_features = 784\n",
        "output_dim = 10;\n",
        "learning_rate = 0.01;\n",
        "num_nodes_in_hidden_layers = 200;\n",
        "num_hidden_layers = 6;\n",
        "device = torch.device(\"cuda:0\" if torch.cuda.is_available() else \"cpu\")\n",
        "print(device);"
      ],
      "execution_count": 84,
      "outputs": [
        {
          "output_type": "stream",
          "name": "stdout",
          "text": [
            "cuda:0\n"
          ]
        }
      ]
    },
    {
      "cell_type": "code",
      "metadata": {
        "id": "UU0rzdACeIT_",
        "colab": {
          "base_uri": "https://localhost:8080/"
        },
        "outputId": "b1d12391-edf9-4d90-b3f7-55c930ddc867"
      },
      "source": [
        "num_epochs = num_iters / (len(train_dataset_zipped) / batch_size)\n",
        "num_epochs = int(num_epochs)\n",
        "\n",
        "train_loader = torch.utils.data.DataLoader(dataset=train_dataset_zipped, \n",
        "                                           batch_size=batch_size, \n",
        "                                           shuffle=True)   # It's better to shuffle the whole training dataset! \n",
        "\n",
        "test_loader = torch.utils.data.DataLoader(dataset=test_dataset_zipped, \n",
        "                                          batch_size=batch_size, \n",
        "                                          shuffle=False) \n",
        "print(len(train_loader));\n",
        "print(len(test_loader));"
      ],
      "execution_count": 85,
      "outputs": [
        {
          "output_type": "stream",
          "name": "stdout",
          "text": [
            "2800\n",
            "700\n"
          ]
        }
      ]
    },
    {
      "cell_type": "code",
      "metadata": {
        "id": "b0738zLpeIWr"
      },
      "source": [
        "import torch.nn as nn\n",
        "class DeepNeuralNetworkModel(nn.Module):\n",
        "    def __init__(self, input_size, num_classes, num_hidden):\n",
        "        super().__init__()\n",
        "       \n",
        "        self.linear_1 = nn.Linear(input_size, num_hidden)\n",
        "        \n",
        "        self.relu_1 = nn.ReLU()\n",
        " \n",
        "        \n",
        "        self.linear_2 = nn.Linear(num_hidden, num_hidden)\n",
        "        \n",
        "        self.relu_2 = nn.ReLU()\n",
        " \n",
        "        \n",
        "        self.linear_3 = nn.Linear(num_hidden, num_hidden)\n",
        "        \n",
        "        self.relu_3 = nn.ReLU()\n",
        " \n",
        "         \n",
        "        self.linear_4 = nn.Linear(num_hidden, num_hidden)\n",
        "        \n",
        "        self.relu_4 = nn.ReLU()\n",
        " \n",
        "         \n",
        "        self.linear_5= nn.Linear(num_hidden, num_hidden)\n",
        "        \n",
        "        self.relu_5= nn.ReLU()\n",
        " \n",
        "         \n",
        "        self.linear_6 = nn.Linear(num_hidden, num_hidden)\n",
        "        \n",
        "        self.relu_6 = nn.ReLU()\n",
        " \n",
        "        \n",
        "        self.linear_out = nn.Linear(num_hidden, num_classes)\n",
        " \n",
        "    def forward(self, x):\n",
        "        ### 1st hidden layer\n",
        "        out  = self.linear_1(x)\n",
        "        ### Non-linearity in 1st hidden layer\n",
        "        out = self.relu_1(out)\n",
        "        \n",
        "        \n",
        "        out  = self.linear_2(out)\n",
        "        out = self.relu_2(out)\n",
        " \n",
        "        \n",
        "        out  = self.linear_3(out)\n",
        "        out = self.relu_3(out)\n",
        " \n",
        "        out  = self.linear_4(out)\n",
        "        out = self.relu_4(out)\n",
        " \n",
        "        out  = self.linear_5(out)\n",
        "        out = self.relu_5(out)\n",
        " \n",
        "        out  = self.linear_6(out)\n",
        "        out = self.relu_6(out)\n",
        "        \n",
        "        # Linear layer (output)\n",
        "        probas  = self.linear_out(out)\n",
        "        return probas"
      ],
      "execution_count": 86,
      "outputs": []
    },
    {
      "cell_type": "markdown",
      "metadata": {
        "id": "3nV8a3CM9686"
      },
      "source": [
        "## INSTANTIATE MODEL CLASS"
      ]
    },
    {
      "cell_type": "code",
      "metadata": {
        "id": "8CokkUMTeIcw",
        "colab": {
          "base_uri": "https://localhost:8080/"
        },
        "outputId": "b28e837c-540c-4af9-8bfe-d51169c1354a"
      },
      "source": [
        "\n",
        " \n",
        "model = DeepNeuralNetworkModel(input_size = input_dim,\n",
        "                               num_classes = output_dim,\n",
        "                               num_hidden = num_nodes_in_hidden_layers)\n",
        "# To enable GPU\n",
        "model.to(device)"
      ],
      "execution_count": 87,
      "outputs": [
        {
          "output_type": "execute_result",
          "data": {
            "text/plain": [
              "DeepNeuralNetworkModel(\n",
              "  (linear_1): Linear(in_features=784, out_features=200, bias=True)\n",
              "  (relu_1): ReLU()\n",
              "  (linear_2): Linear(in_features=200, out_features=200, bias=True)\n",
              "  (relu_2): ReLU()\n",
              "  (linear_3): Linear(in_features=200, out_features=200, bias=True)\n",
              "  (relu_3): ReLU()\n",
              "  (linear_4): Linear(in_features=200, out_features=200, bias=True)\n",
              "  (relu_4): ReLU()\n",
              "  (linear_5): Linear(in_features=200, out_features=200, bias=True)\n",
              "  (relu_5): ReLU()\n",
              "  (linear_6): Linear(in_features=200, out_features=200, bias=True)\n",
              "  (relu_6): ReLU()\n",
              "  (linear_out): Linear(in_features=200, out_features=10, bias=True)\n",
              ")"
            ]
          },
          "metadata": {},
          "execution_count": 87
        }
      ]
    },
    {
      "cell_type": "markdown",
      "metadata": {
        "id": "n7bPJeWI99fE"
      },
      "source": [
        "## INSTANTIATE LOSS & OPTIMIZER CLASS"
      ]
    },
    {
      "cell_type": "code",
      "metadata": {
        "id": "RV21lawif2CR"
      },
      "source": [
        "criterion = nn.CrossEntropyLoss()\n",
        "optimizer = torch.optim.SGD(model.parameters(), lr=learning_rate)"
      ],
      "execution_count": 88,
      "outputs": []
    },
    {
      "cell_type": "markdown",
      "metadata": {
        "id": "jxtTDjY39_G_"
      },
      "source": [
        "## train model"
      ]
    },
    {
      "cell_type": "code",
      "metadata": {
        "colab": {
          "base_uri": "https://localhost:8080/"
        },
        "id": "m1yG3mWVf2Ih",
        "outputId": "51aebaeb-3e0e-46b5-8deb-e8a3f772af5f"
      },
      "source": [
        "Iteration_loss =[]\n",
        "iter = 0\n",
        "for epoch in range(num_epochs):\n",
        "    for i, (images, labels) in enumerate(train_loader):\n",
        " \n",
        "        images = images.view(-1, 28*28).to(device)\n",
        "        labels = labels.to(device)\n",
        " \n",
        "        # Clear gradients w.r.t. parameters\n",
        "        optimizer.zero_grad()\n",
        " \n",
        "        # Forward pass to get output/logits\n",
        "        outputs = model(images.float()) \n",
        " \n",
        "        # Calculate Loss: softmax --> cross entropy loss\n",
        "        loss = criterion(outputs, labels)\n",
        " \n",
        "        # Getting gradients w.r.t. parameters\n",
        "        loss.backward()\n",
        " \n",
        "        # Updating parameters\n",
        "        optimizer.step()\n",
        " \n",
        "        iter += 1\n",
        " \n",
        "        if iter % 500 == 0:\n",
        "            # Calculate Accuracy         \n",
        "            correct = 0\n",
        "            total = 0\n",
        "            # Iterate through test dataset\n",
        "            for images, labels in test_loader:\n",
        "               \n",
        "                images = images.view(-1, 28*28).to(device)\n",
        " \n",
        "                # Forward pass only to get logits/output\n",
        "                outputs = model(images.float())\n",
        " \n",
        "                # Get predictions from the maximum value\n",
        "                _, predicted = torch.max(outputs, 1)\n",
        " \n",
        "                # Total number of labels\n",
        "                total += labels.size(0)\n",
        " \n",
        " \n",
        "                # Total correct predictions\n",
        "                if torch.cuda.is_available():\n",
        "                    correct += (predicted.cpu() == labels.cpu()).sum() \n",
        "                else:\n",
        "                    correct += (predicted == labels).sum()\n",
        " \n",
        "            accuracy = 100 * correct.item() / total\n",
        " \n",
        "            # Print Loss\n",
        "            Iteration_loss.append(loss.item())\n",
        "            print('Iteration: {}. Loss: {}. Accuracy: {}'.format(iter, loss.item(), accuracy))"
      ],
      "execution_count": 89,
      "outputs": [
        {
          "output_type": "stream",
          "name": "stdout",
          "text": [
            "Iteration: 500. Loss: 2.3054049015045166. Accuracy: 10.15\n",
            "Iteration: 1000. Loss: 2.3075602054595947. Accuracy: 9.714285714285714\n",
            "Iteration: 1500. Loss: 2.295961856842041. Accuracy: 12.364285714285714\n",
            "Iteration: 2000. Loss: 2.2951200008392334. Accuracy: 9.557142857142857\n",
            "Iteration: 2500. Loss: 2.2908053398132324. Accuracy: 26.392857142857142\n",
            "Iteration: 3000. Loss: 2.235339403152466. Accuracy: 19.314285714285713\n",
            "Iteration: 3500. Loss: 1.7535679340362549. Accuracy: 22.57857142857143\n",
            "Iteration: 4000. Loss: 1.26744544506073. Accuracy: 52.885714285714286\n",
            "Iteration: 4500. Loss: 0.8967034220695496. Accuracy: 57.72857142857143\n",
            "Iteration: 5000. Loss: 0.9525443315505981. Accuracy: 63.642857142857146\n",
            "Iteration: 5500. Loss: 1.0470128059387207. Accuracy: 65.75714285714285\n",
            "Iteration: 6000. Loss: 0.6968270540237427. Accuracy: 66.63571428571429\n",
            "Iteration: 6500. Loss: 0.5516088008880615. Accuracy: 67.44285714285714\n",
            "Iteration: 7000. Loss: 0.6965080499649048. Accuracy: 73.83571428571429\n",
            "Iteration: 7500. Loss: 0.48489508032798767. Accuracy: 74.01428571428572\n",
            "Iteration: 8000. Loss: 0.7167142629623413. Accuracy: 71.41428571428571\n",
            "Iteration: 8500. Loss: 0.5192119479179382. Accuracy: 76.96428571428571\n",
            "Iteration: 9000. Loss: 0.4124676287174225. Accuracy: 77.31428571428572\n",
            "Iteration: 9500. Loss: 0.6484420299530029. Accuracy: 78.19285714285714\n",
            "Iteration: 10000. Loss: 0.6246304512023926. Accuracy: 77.35714285714286\n",
            "Iteration: 10500. Loss: 0.4634714126586914. Accuracy: 76.52142857142857\n",
            "Iteration: 11000. Loss: 0.6085681915283203. Accuracy: 79.13571428571429\n",
            "Iteration: 11500. Loss: 0.6225802898406982. Accuracy: 81.49285714285715\n",
            "Iteration: 12000. Loss: 0.5446120500564575. Accuracy: 80.46428571428571\n",
            "Iteration: 12500. Loss: 0.15046539902687073. Accuracy: 81.83571428571429\n",
            "Iteration: 13000. Loss: 0.5473693013191223. Accuracy: 80.03571428571429\n",
            "Iteration: 13500. Loss: 0.7108805775642395. Accuracy: 82.8\n",
            "Iteration: 14000. Loss: 0.3812567889690399. Accuracy: 81.70714285714286\n",
            "Iteration: 14500. Loss: 0.5399729013442993. Accuracy: 82.65\n",
            "Iteration: 15000. Loss: 0.3305192291736603. Accuracy: 83.47142857142858\n",
            "Iteration: 15500. Loss: 0.39531001448631287. Accuracy: 82.47857142857143\n",
            "Iteration: 16000. Loss: 0.14163604378700256. Accuracy: 84.31428571428572\n",
            "Iteration: 16500. Loss: 0.5927346348762512. Accuracy: 83.90714285714286\n",
            "Iteration: 17000. Loss: 0.5210704207420349. Accuracy: 84.35714285714286\n",
            "Iteration: 17500. Loss: 0.5812178254127502. Accuracy: 84.25714285714285\n",
            "Iteration: 18000. Loss: 0.18908193707466125. Accuracy: 82.63571428571429\n",
            "Iteration: 18500. Loss: 0.35432735085487366. Accuracy: 84.17142857142858\n",
            "Iteration: 19000. Loss: 0.25440797209739685. Accuracy: 85.62142857142857\n",
            "Iteration: 19500. Loss: 0.19524291157722473. Accuracy: 85.25\n"
          ]
        }
      ]
    },
    {
      "cell_type": "code",
      "metadata": {
        "colab": {
          "base_uri": "https://localhost:8080/",
          "height": 361
        },
        "id": "L4viAaUtBu39",
        "outputId": "fceb93d5-2a02-487b-e3f9-98178a7a32c9"
      },
      "source": [
        "plt.plot(Iteration_loss)\n",
        "plt.ylabel('Loss')\n",
        "plt.xlabel('Iteration')\n",
        "plt.show()"
      ],
      "execution_count": 90,
      "outputs": [
        {
          "output_type": "display_data",
          "data": {
            "image/png": "[encoded data removed]",
            "text/plain": [
              "<Figure size 576x396 with 1 Axes>"
            ]
          },
          "metadata": {}
        }
      ]
    },
    {
      "cell_type": "markdown",
      "metadata": {
        "id": "KFg0HxFh-BRQ"
      },
      "source": [
        "## Modified parameter for experiment 2"
      ]
    },
    {
      "cell_type": "code",
      "metadata": {
        "colab": {
          "base_uri": "https://localhost:8080/"
        },
        "id": "QUHwncjbghTM",
        "outputId": "de126e91-a030-4653-fd5e-3c2b2bc6db11"
      },
      "source": [
        "batch_size = 200\n",
        "num_iters = 20000\n",
        "input_dim = 28*28 # num_features = 784\n",
        "num_hidden = 100 # num of hidden nodes\n",
        "output_dim = 10\n",
        "\n",
        "learning_rate = 0.001 \n",
        "\n",
        "num_epochs = num_iters / (len(train_dataset_zipped) / batch_size)\n",
        "num_epochs = int(num_epochs)\n",
        "print(\"Total Epoch:\",num_epochs)\n",
        "\n",
        "# Device\n",
        "device = torch.device(\"cuda:0\" if torch.cuda.is_available() else \"cpu\")\n",
        "print(device);"
      ],
      "execution_count": 91,
      "outputs": [
        {
          "output_type": "stream",
          "name": "stdout",
          "text": [
            "Total Epoch: 71\n",
            "cuda:0\n"
          ]
        }
      ]
    },
    {
      "cell_type": "markdown",
      "metadata": {
        "id": "SSyR8Mae-Jt5"
      },
      "source": [
        "## dataloader"
      ]
    },
    {
      "cell_type": "code",
      "metadata": {
        "colab": {
          "base_uri": "https://localhost:8080/"
        },
        "id": "UN6MhZtFghYY",
        "outputId": "9a1890cd-cb74-4aa9-ae43-87692f76ffdc"
      },
      "source": [
        "num_epochs = num_iters / (len(train_dataset_zipped) / batch_size)\n",
        "num_epochs = int(num_epochs)\n",
        "\n",
        "train_loader = torch.utils.data.DataLoader(dataset=train_dataset_zipped, \n",
        "                                           batch_size=batch_size, \n",
        "                                           shuffle=True)   # It's better to shuffle the whole training dataset! \n",
        "\n",
        "test_loader = torch.utils.data.DataLoader(dataset=test_dataset_zipped, \n",
        "                                          batch_size=batch_size, \n",
        "                                          shuffle=False) \n",
        "print(\"Train dataloader:\",len(train_loader));\n",
        "print(\"Test dataloader:\",len(test_loader));"
      ],
      "execution_count": 92,
      "outputs": [
        {
          "output_type": "stream",
          "name": "stdout",
          "text": [
            "Train dataloader: 280\n",
            "Test dataloader: 70\n"
          ]
        }
      ]
    },
    {
      "cell_type": "code",
      "metadata": {
        "id": "V1UAye3hghcz"
      },
      "source": [
        "import torch.nn as nn\n",
        "class DeepNeuralNetworkModel(nn.Module):\n",
        "    def __init__(self, input_size, num_classes, num_hidden):\n",
        "        super().__init__()\n",
        "        ### 1st hidden layer: 784 --> 100\n",
        "        self.linear_1 = nn.Linear(input_size, num_hidden)\n",
        "        ### Non-linearity in 1st hidden layer\n",
        "        self.celu_1 = nn.CELU()\n",
        "\n",
        "        ### 2nd hidden layer: 100 --> 100\n",
        "        self.linear_2 = nn.Linear(num_hidden, num_hidden)\n",
        "        ### Non-linearity in 2nd hidden layer\n",
        "        self.celu_2 = nn.CELU()\n",
        "        \n",
        "        ### 3rd hidden layer: 100 --> 100\n",
        "        self.linear_3 = nn.Linear(num_hidden, num_hidden)\n",
        "        ### Non-linearity in 3rd hidden layer\n",
        "        self.celu_3 = nn.CELU()\n",
        "        \n",
        "        ### 4th hidden layer: 100 --> 100\n",
        "        self.linear_4 = nn.Linear(num_hidden, num_hidden)\n",
        "        ### Non-linearity in 4th hidden layer\n",
        "        self.celu_4 = nn.CELU()\n",
        "\n",
        "        ### Output layer: 100 --> 10\n",
        "        self.linear_out = nn.Linear(num_hidden, num_classes)\n",
        "\n",
        "    def forward(self, x):\n",
        "        ### 1st hidden layer\n",
        "        out  = self.linear_1(x)\n",
        "        ### Non-linearity in 1st hidden layer\n",
        "        out = self.celu_1(out)\n",
        "        \n",
        "        ### 2nd hidden layer\n",
        "        out  = self.linear_2(out)\n",
        "        ### Non-linearity in 2nd hidden layer\n",
        "        out = self.celu_2(out)\n",
        "        \n",
        "        ### 3rd hidden layer\n",
        "        out  = self.linear_3(out)\n",
        "        ### Non-linearity in 3rd hidden layer\n",
        "        out = self.celu_3(out)\n",
        "        \n",
        "        ### 4th hidden layer\n",
        "        out  = self.linear_4(out)\n",
        "        ### Non-linearity in 3rd hidden layer\n",
        "        out = self.celu_4(out)\n",
        "        \n",
        "        # Linear layer (output)\n",
        "        probas  = self.linear_out(out)\n",
        "        return probas"
      ],
      "execution_count": 93,
      "outputs": []
    },
    {
      "cell_type": "code",
      "metadata": {
        "colab": {
          "base_uri": "https://localhost:8080/"
        },
        "id": "7idkrfHfghgQ",
        "outputId": "f908b308-8edc-4ac8-911b-cbf706997622"
      },
      "source": [
        "model = DeepNeuralNetworkModel(input_size = input_dim,\n",
        "                               num_classes = output_dim,\n",
        "                               num_hidden = num_nodes_in_hidden_layers)\n",
        "# To enable GPU\n",
        "model.to(device)"
      ],
      "execution_count": 94,
      "outputs": [
        {
          "output_type": "execute_result",
          "data": {
            "text/plain": [
              "DeepNeuralNetworkModel(\n",
              "  (linear_1): Linear(in_features=784, out_features=200, bias=True)\n",
              "  (celu_1): CELU(alpha=1.0)\n",
              "  (linear_2): Linear(in_features=200, out_features=200, bias=True)\n",
              "  (celu_2): CELU(alpha=1.0)\n",
              "  (linear_3): Linear(in_features=200, out_features=200, bias=True)\n",
              "  (celu_3): CELU(alpha=1.0)\n",
              "  (linear_4): Linear(in_features=200, out_features=200, bias=True)\n",
              "  (celu_4): CELU(alpha=1.0)\n",
              "  (linear_out): Linear(in_features=200, out_features=10, bias=True)\n",
              ")"
            ]
          },
          "metadata": {},
          "execution_count": 94
        }
      ]
    },
    {
      "cell_type": "code",
      "metadata": {
        "id": "NN6kkwq1ghkY"
      },
      "source": [
        "criterion = nn.CrossEntropyLoss()\n",
        "optimizer = torch.optim.Adam(model.parameters(), lr=learning_rate)"
      ],
      "execution_count": 95,
      "outputs": []
    },
    {
      "cell_type": "code",
      "metadata": {
        "colab": {
          "base_uri": "https://localhost:8080/"
        },
        "id": "p9cnuOt8g3s6",
        "outputId": "c19dd9f2-1441-4239-c095-775ebaad3184"
      },
      "source": [
        "Iteration_loss =[]\n",
        "iter = 0\n",
        "for epoch in range(num_epochs):\n",
        "    for i, (images, labels) in enumerate(train_loader):\n",
        " \n",
        "        images = images.view(-1, 28*28).to(device)\n",
        "        labels = labels.to(device)\n",
        " \n",
        "        # Clear gradients w.r.t. parameters\n",
        "        optimizer.zero_grad()\n",
        " \n",
        "        # Forward pass to get output/logits\n",
        "        outputs = model(images.float()) \n",
        " \n",
        "        # Calculate Loss: softmax --> cross entropy loss\n",
        "        loss = criterion(outputs, labels)\n",
        " \n",
        "        # Getting gradients w.r.t. parameters\n",
        "        loss.backward()\n",
        " \n",
        "        # Updating parameters\n",
        "        optimizer.step()\n",
        " \n",
        "        iter += 1\n",
        " \n",
        "        if iter % 500 == 0:\n",
        "            # Calculate Accuracy         \n",
        "            correct = 0\n",
        "            total = 0\n",
        "            # Iterate through test dataset\n",
        "            for images, labels in test_loader:\n",
        "               \n",
        "                images = images.view(-1, 28*28).to(device)\n",
        " \n",
        "                # Forward pass only to get logits/output\n",
        "                outputs = model(images.float())\n",
        " \n",
        "                # Get predictions from the maximum value\n",
        "                _, predicted = torch.max(outputs, 1)\n",
        " \n",
        "                # Total number of labels\n",
        "                total += labels.size(0)\n",
        " \n",
        " \n",
        "                # Total correct predictions\n",
        "                if torch.cuda.is_available():\n",
        "                    correct += (predicted.cpu() == labels.cpu()).sum() \n",
        "                else:\n",
        "                    correct += (predicted == labels).sum()\n",
        " \n",
        "            accuracy = 100 * correct.item() / total\n",
        " \n",
        "            # Print Loss\n",
        "            Iteration_loss.append(loss.item())\n",
        "            print('Iteration: {}. Loss: {}. Accuracy: {}'.format(iter, loss.item(), accuracy))"
      ],
      "execution_count": 96,
      "outputs": [
        {
          "output_type": "stream",
          "name": "stdout",
          "text": [
            "Iteration: 500. Loss: 0.4451512396335602. Accuracy: 85.70714285714286\n",
            "Iteration: 1000. Loss: 0.41375645995140076. Accuracy: 86.67142857142858\n",
            "Iteration: 1500. Loss: 0.3306722640991211. Accuracy: 87.65714285714286\n",
            "Iteration: 2000. Loss: 0.27092036604881287. Accuracy: 87.82142857142857\n",
            "Iteration: 2500. Loss: 0.2779959440231323. Accuracy: 88.32857142857142\n",
            "Iteration: 3000. Loss: 0.36200129985809326. Accuracy: 88.29285714285714\n",
            "Iteration: 3500. Loss: 0.25964534282684326. Accuracy: 88.67857142857143\n",
            "Iteration: 4000. Loss: 0.24770797789096832. Accuracy: 88.42857142857143\n",
            "Iteration: 4500. Loss: 0.13842198252677917. Accuracy: 88.56428571428572\n",
            "Iteration: 5000. Loss: 0.17704877257347107. Accuracy: 89.37142857142857\n",
            "Iteration: 5500. Loss: 0.16393893957138062. Accuracy: 88.99285714285715\n",
            "Iteration: 6000. Loss: 0.1298397034406662. Accuracy: 89.63571428571429\n",
            "Iteration: 6500. Loss: 0.15400223433971405. Accuracy: 89.73571428571428\n",
            "Iteration: 7000. Loss: 0.19660376012325287. Accuracy: 89.5\n",
            "Iteration: 7500. Loss: 0.17829057574272156. Accuracy: 88.82142857142857\n",
            "Iteration: 8000. Loss: 0.12377806007862091. Accuracy: 89.97857142857143\n",
            "Iteration: 8500. Loss: 0.1671636998653412. Accuracy: 90.06428571428572\n",
            "Iteration: 9000. Loss: 0.15539494156837463. Accuracy: 89.72857142857143\n",
            "Iteration: 9500. Loss: 0.11997389048337936. Accuracy: 89.78571428571429\n",
            "Iteration: 10000. Loss: 0.1771279126405716. Accuracy: 89.68571428571428\n",
            "Iteration: 10500. Loss: 0.21352189779281616. Accuracy: 89.03571428571429\n",
            "Iteration: 11000. Loss: 0.10192468762397766. Accuracy: 89.71428571428571\n",
            "Iteration: 11500. Loss: 0.10831137001514435. Accuracy: 89.71428571428571\n",
            "Iteration: 12000. Loss: 0.07091625034809113. Accuracy: 89.5\n",
            "Iteration: 12500. Loss: 0.07672153413295746. Accuracy: 89.34285714285714\n",
            "Iteration: 13000. Loss: 0.10307612270116806. Accuracy: 89.9\n",
            "Iteration: 13500. Loss: 0.05659978836774826. Accuracy: 89.37857142857143\n",
            "Iteration: 14000. Loss: 0.11685191094875336. Accuracy: 88.50714285714285\n",
            "Iteration: 14500. Loss: 0.09768284857273102. Accuracy: 89.26428571428572\n",
            "Iteration: 15000. Loss: 0.14861993491649628. Accuracy: 88.72142857142858\n",
            "Iteration: 15500. Loss: 0.04186858981847763. Accuracy: 88.93571428571428\n",
            "Iteration: 16000. Loss: 0.051418486982584. Accuracy: 89.17857142857143\n",
            "Iteration: 16500. Loss: 0.07575992494821548. Accuracy: 89.22857142857143\n",
            "Iteration: 17000. Loss: 0.06267404556274414. Accuracy: 89.47142857142858\n",
            "Iteration: 17500. Loss: 0.04676869884133339. Accuracy: 89.81428571428572\n",
            "Iteration: 18000. Loss: 0.03492410480976105. Accuracy: 89.47142857142858\n",
            "Iteration: 18500. Loss: 0.05590655654668808. Accuracy: 89.24285714285715\n",
            "Iteration: 19000. Loss: 0.02928996831178665. Accuracy: 89.42142857142858\n",
            "Iteration: 19500. Loss: 0.0442536324262619. Accuracy: 89.54285714285714\n"
          ]
        }
      ]
    },
    {
      "cell_type": "markdown",
      "metadata": {
        "id": "TXmL2BgY-nSI"
      },
      "source": [
        "## loss vs iterations"
      ]
    },
    {
      "cell_type": "code",
      "metadata": {
        "colab": {
          "base_uri": "https://localhost:8080/",
          "height": 361
        },
        "id": "OsXUcIfzg3wm",
        "outputId": "febc1574-029e-419f-f17f-85ab0f44687b"
      },
      "source": [
        "plt.plot(Iteration_loss)\n",
        "plt.ylabel('Loss')\n",
        "plt.xlabel('Iteration')\n",
        "plt.show()"
      ],
      "execution_count": 97,
      "outputs": [
        {
          "output_type": "display_data",
          "data": {
            "image/png": "[encoded data removed]",
            "text/plain": [
              "<Figure size 576x396 with 1 Axes>"
            ]
          },
          "metadata": {}
        }
      ]
    }
  ]
}
