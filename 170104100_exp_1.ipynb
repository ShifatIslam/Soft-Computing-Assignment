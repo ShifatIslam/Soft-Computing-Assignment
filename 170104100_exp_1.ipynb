{
 "cells": [
  {
   "cell_type": "code",
   "execution_count": 1,
   "metadata": {
    "id": "4UMKTgRoeqfW"
   },
   "outputs": [],
   "source": [
    "import numpy as np\n",
    "import pandas as pd\n",
    "import torch\n",
    "import torch.nn as nn\n",
    "import torch.nn.functional as F\n",
    "import torch.optim as optim\n",
    "from torch.utils.data import Dataset\n",
    "from torch.utils.data.sampler import SubsetRandomSampler\n",
    "import matplotlib\n",
    "import matplotlib.pyplot as plt\n",
    "from PIL import Image\n",
    "from torchvision import datasets, transforms, models\n",
    "from torch.autograd import Variable\n",
    "from zipfile import ZipFile\n",
    "import os\n",
    "from os import path\n",
    "import shutil"
   ]
  },
  {
   "cell_type": "code",
   "execution_count": 4,
   "metadata": {
    "colab": {
     "base_uri": "https://localhost:8080/",
     "height": 221
    },
    "id": "xy-Cey0sf9Fz",
    "outputId": "f9c9fdb1-de0d-4cd5-fea2-36834ce2cf65"
   },
   "outputs": [
    {
     "name": "stdout",
     "output_type": "stream",
     "text": [
      "(19702, 2)\n"
     ]
    },
    {
     "data": {
      "text/html": [
       "<div>\n",
       "<style scoped>\n",
       "    .dataframe tbody tr th:only-of-type {\n",
       "        vertical-align: middle;\n",
       "    }\n",
       "\n",
       "    .dataframe tbody tr th {\n",
       "        vertical-align: top;\n",
       "    }\n",
       "\n",
       "    .dataframe thead th {\n",
       "        text-align: right;\n",
       "    }\n",
       "</style>\n",
       "<table border=\"1\" class=\"dataframe\">\n",
       "  <thead>\n",
       "    <tr style=\"text-align: right;\">\n",
       "      <th></th>\n",
       "      <th>filename</th>\n",
       "      <th>digit</th>\n",
       "    </tr>\n",
       "  </thead>\n",
       "  <tbody>\n",
       "    <tr>\n",
       "      <th>0</th>\n",
       "      <td>a00000.png</td>\n",
       "      <td>5</td>\n",
       "    </tr>\n",
       "    <tr>\n",
       "      <th>1</th>\n",
       "      <td>a00001.png</td>\n",
       "      <td>3</td>\n",
       "    </tr>\n",
       "    <tr>\n",
       "      <th>2</th>\n",
       "      <td>a00002.png</td>\n",
       "      <td>1</td>\n",
       "    </tr>\n",
       "    <tr>\n",
       "      <th>3</th>\n",
       "      <td>a00003.png</td>\n",
       "      <td>7</td>\n",
       "    </tr>\n",
       "    <tr>\n",
       "      <th>4</th>\n",
       "      <td>a00004.png</td>\n",
       "      <td>0</td>\n",
       "    </tr>\n",
       "  </tbody>\n",
       "</table>\n",
       "</div>"
      ],
      "text/plain": [
       "     filename  digit\n",
       "0  a00000.png      5\n",
       "1  a00001.png      3\n",
       "2  a00002.png      1\n",
       "3  a00003.png      7\n",
       "4  a00004.png      0"
      ]
     },
     "execution_count": 4,
     "metadata": {},
     "output_type": "execute_result"
    }
   ],
   "source": [
    "data_labels = pd.read_csv('training-a.csv', usecols = ['filename', 'digit'])\n",
    "print(data_labels.shape)\n",
    "data_labels.head()"
   ]
  },
  {
   "cell_type": "code",
   "execution_count": null,
   "metadata": {
    "id": "hTJ2ocEEHVGA"
   },
   "outputs": [],
   "source": [
    "TRAIN_PATH ='Train1'\n",
    "os.mkdir(TRAIN_PATH)\n",
    "\n",
    "def processImages(folder_name):\n",
    "  src =  folder_name + '/'\n",
    "  dir_folders = os.listdir(src)\n",
    "  for dir_name in dir_folders:\n",
    "    file_name = os.path.join(src, dir_name)\n",
    "    if os.path.isfile(file_name):\n",
    "      shutil.copy(file_name, TRAIN_PATH) \n",
    "\n",
    "processImages('training-a')"
   ]
  },
  {
   "cell_type": "code",
   "execution_count": 63,
   "metadata": {
    "id": "zmE05jA4kTDU"
   },
   "outputs": [],
   "source": [
    "class Dataset(Dataset):\n",
    "    def __init__(self, df, root, transform=None):\n",
    "        self.data = df\n",
    "        self.root = root\n",
    "        self.transform = transform\n",
    "        \n",
    "    def __len__(self):\n",
    "        return len(self.data)\n",
    "    \n",
    "    def __getitem__(self, index):\n",
    "        item = self.data.iloc[index]\n",
    "        \n",
    "        path = self.root + \"/\" + item[0]\n",
    "        image = Image.open(path).convert('L')\n",
    "        label = item[1]\n",
    "        \n",
    "        if self.transform is not None:\n",
    "            image = self.transform(image)\n",
    "            \n",
    "        return image, label"
   ]
  },
  {
   "cell_type": "code",
   "execution_count": 64,
   "metadata": {
    "colab": {
     "base_uri": "https://localhost:8080/"
    },
    "id": "adaZ60Uik-eb",
    "outputId": "8e66fb67-e670-485f-ac11-b60d2a5a3ebc"
   },
   "outputs": [
    {
     "name": "stdout",
     "output_type": "stream",
     "text": [
      "Trainig Samples:  19702\n"
     ]
    }
   ],
   "source": [
    "mean = [0.5,]\n",
    "std = [0.5, ]\n",
    "\n",
    "train_transform = transforms.Compose([\n",
    "    transforms.Resize(28),\n",
    "    transforms.ToTensor(),\n",
    "    transforms.Normalize(mean, std)\n",
    "])\n",
    "\n",
    "test_transform = transforms.Compose([\n",
    "        transforms.Resize(28),\n",
    "        transforms.ToTensor(),\n",
    "        transforms.Normalize(mean, std)\n",
    "])\n",
    "\n",
    "train_data  = Dataset(data_labels, TRAIN_PATH, train_transform)\n",
    "test_data = Dataset(data_labels, TRAIN_PATH, test_transform)\n",
    "\n",
    "print(\"Trainig Samples: \", len(train_data))"
   ]
  },
  {
   "cell_type": "markdown",
   "metadata": {
    "id": "8htM9w2LmUVl"
   },
   "source": [
    "# **Base Parameters**"
   ]
  },
  {
   "cell_type": "code",
   "execution_count": 65,
   "metadata": {
    "colab": {
     "base_uri": "https://localhost:8080/"
    },
    "id": "IGG3l4vrmkI3",
    "outputId": "6a36b17c-57fd-45a9-f19d-4f4416f51407"
   },
   "outputs": [
    {
     "name": "stdout",
     "output_type": "stream",
     "text": [
      "25\n"
     ]
    }
   ],
   "source": [
    "batch_size = 20\n",
    "num_iters = 20000\n",
    "input_dim = 28*28\n",
    "num_hidden = 200\n",
    "output_dim = 10\n",
    "\n",
    "learning_rate = 0.01\n",
    "\n",
    "num_epochs = num_iters / (len(train_sampler) / batch_size)\n",
    "num_epochs = int(num_epochs)\n",
    "print(num_epochs)\n",
    "\n",
    "device = torch.device(\"cuda:0\" if torch.cuda.is_available() else \"cpu\")"
   ]
  },
  {
   "cell_type": "code",
   "execution_count": 66,
   "metadata": {
    "colab": {
     "base_uri": "https://localhost:8080/"
    },
    "id": "lsSesapsltZF",
    "outputId": "72b5fe74-6eaa-4c18-b642-a52ddb0f99d5"
   },
   "outputs": [
    {
     "name": "stdout",
     "output_type": "stream",
     "text": [
      "Train dataloader:789\n",
      "Test dataloader:197\n"
     ]
    }
   ],
   "source": [
    "test_size = 0.2\n",
    "num_train = len(train_data)\n",
    "indices = list(range(num_train))\n",
    "np.random.shuffle(indices)\n",
    "\n",
    "split = int(np.floor(test_size * num_train))\n",
    "train_idx, test_idx = indices[split:], indices[:split]\n",
    "\n",
    "train_sampler = SubsetRandomSampler(train_idx)\n",
    "test_sampler = SubsetRandomSampler(test_idx)\n",
    "\n",
    "train_loader = torch.utils.data.DataLoader(\n",
    "    train_data, batch_size=batch_size,\n",
    "    sampler=train_sampler)\n",
    "\n",
    "test_loader = torch.utils.data.DataLoader(\n",
    "    test_data, batch_size=batch_size,\n",
    "    sampler=test_sampler)\n",
    "\n",
    "print(\"Train dataloader:{}\".format(len(train_loader)))\n",
    "print(\"Test dataloader:{}\".format(len(test_loader)))"
   ]
  },
  {
   "cell_type": "code",
   "execution_count": 67,
   "metadata": {
    "id": "6jCcU8giniGS"
   },
   "outputs": [],
   "source": [
    "class DeepNeuralNetworkModel(nn.Module):\n",
    "    def __init__(self, input_size, num_classes, num_hidden):\n",
    "        super().__init__()\n",
    "       \n",
    "        self.linear_1 = nn.Linear(input_size, num_hidden)\n",
    "        self.relu_1 = nn.ReLU()\n",
    " \n",
    "        self.linear_2 = nn.Linear(num_hidden, num_hidden)\n",
    "        self.relu_2 = nn.ReLU()\n",
    " \n",
    "        self.linear_3 = nn.Linear(num_hidden, num_hidden)\n",
    "        self.relu_3 = nn.ReLU()\n",
    " \n",
    "        self.linear_4 = nn.Linear(num_hidden, num_hidden)\n",
    "        self.relu_4 = nn.ReLU()\n",
    " \n",
    "        self.linear_5= nn.Linear(num_hidden, num_hidden)\n",
    "        self.relu_5= nn.ReLU()\n",
    " \n",
    "        self.linear_6 = nn.Linear(num_hidden, num_hidden)\n",
    "        self.relu_6 = nn.ReLU()\n",
    " \n",
    "        self.linear_out = nn.Linear(num_hidden, num_classes)\n",
    " \n",
    "    def forward(self, x):\n",
    "        out  = self.linear_1(x)\n",
    "        out = self.relu_1(out)\n",
    "        \n",
    "        out  = self.linear_2(out)\n",
    "        out = self.relu_2(out)\n",
    " \n",
    "        out  = self.linear_3(out)\n",
    "        out = self.relu_3(out)\n",
    " \n",
    "        out  = self.linear_4(out)\n",
    "        out = self.relu_4(out)\n",
    " \n",
    "        out  = self.linear_5(out)\n",
    "        out = self.relu_5(out)\n",
    " \n",
    "        out  = self.linear_6(out)\n",
    "        out = self.relu_6(out)\n",
    "        \n",
    "        probas  = self.linear_out(out)\n",
    "        return probas"
   ]
  },
  {
   "cell_type": "code",
   "execution_count": 68,
   "metadata": {
    "colab": {
     "base_uri": "https://localhost:8080/"
    },
    "id": "Q23HotHio42L",
    "outputId": "1171c191-3742-47e9-fe29-daf9130927c8"
   },
   "outputs": [
    {
     "data": {
      "text/plain": [
       "DeepNeuralNetworkModel(\n",
       "  (linear_1): Linear(in_features=784, out_features=200, bias=True)\n",
       "  (relu_1): ReLU()\n",
       "  (linear_2): Linear(in_features=200, out_features=200, bias=True)\n",
       "  (relu_2): ReLU()\n",
       "  (linear_3): Linear(in_features=200, out_features=200, bias=True)\n",
       "  (relu_3): ReLU()\n",
       "  (linear_4): Linear(in_features=200, out_features=200, bias=True)\n",
       "  (relu_4): ReLU()\n",
       "  (linear_5): Linear(in_features=200, out_features=200, bias=True)\n",
       "  (relu_5): ReLU()\n",
       "  (linear_6): Linear(in_features=200, out_features=200, bias=True)\n",
       "  (relu_6): ReLU()\n",
       "  (linear_out): Linear(in_features=200, out_features=10, bias=True)\n",
       ")"
      ]
     },
     "execution_count": 68,
     "metadata": {},
     "output_type": "execute_result"
    }
   ],
   "source": [
    "model = DeepNeuralNetworkModel(input_size = input_dim, num_classes = output_dim, num_hidden = num_hidden)\n",
    "\n",
    "model.to(device)"
   ]
  },
  {
   "cell_type": "code",
   "execution_count": 69,
   "metadata": {
    "id": "V1YagXSipEth"
   },
   "outputs": [],
   "source": [
    "criterion = nn.CrossEntropyLoss()\n",
    "optimizer = torch.optim.SGD(model.parameters(), lr = learning_rate)"
   ]
  },
  {
   "cell_type": "code",
   "execution_count": 70,
   "metadata": {
    "colab": {
     "base_uri": "https://localhost:8080/"
    },
    "id": "6VJ_sYCMp2l9",
    "outputId": "1566b22e-45ca-4019-fcdc-424e3c20f11b"
   },
   "outputs": [
    {
     "name": "stdout",
     "output_type": "stream",
     "text": [
      "Epoch:  1\n",
      "Iteration: 500. Loss: 2.3024277687072754. Accuracy: 9.263959390862944\n",
      "Epoch:  2\n",
      "Iteration: 1000. Loss: 2.3062901496887207. Accuracy: 9.67005076142132\n",
      "Iteration: 1500. Loss: 2.299248218536377. Accuracy: 9.67005076142132\n",
      "Epoch:  3\n",
      "Iteration: 2000. Loss: 2.3047289848327637. Accuracy: 9.67005076142132\n",
      "Epoch:  4\n",
      "Iteration: 2500. Loss: 2.300363302230835. Accuracy: 9.746192893401016\n",
      "Iteration: 3000. Loss: 2.297542095184326. Accuracy: 9.746192893401016\n",
      "Epoch:  5\n",
      "Iteration: 3500. Loss: 2.3001837730407715. Accuracy: 9.67005076142132\n",
      "Epoch:  6\n",
      "Iteration: 4000. Loss: 2.3037359714508057. Accuracy: 9.263959390862944\n",
      "Iteration: 4500. Loss: 2.3062491416931152. Accuracy: 9.746192893401016\n",
      "Epoch:  7\n",
      "Iteration: 5000. Loss: 2.2998266220092773. Accuracy: 10.304568527918782\n",
      "Iteration: 5500. Loss: 2.302612066268921. Accuracy: 9.263959390862944\n",
      "Epoch:  8\n",
      "Iteration: 6000. Loss: 2.2996628284454346. Accuracy: 9.67005076142132\n",
      "Epoch:  9\n",
      "Iteration: 6500. Loss: 2.303332805633545. Accuracy: 9.746192893401016\n",
      "Iteration: 7000. Loss: 2.2985565662384033. Accuracy: 9.746192893401016\n",
      "Epoch:  10\n",
      "Iteration: 7500. Loss: 2.3036649227142334. Accuracy: 9.67005076142132\n",
      "Epoch:  11\n",
      "Iteration: 8000. Loss: 2.299359083175659. Accuracy: 10.17766497461929\n",
      "Iteration: 8500. Loss: 2.297351598739624. Accuracy: 9.67005076142132\n",
      "Epoch:  12\n",
      "Iteration: 9000. Loss: 2.303452491760254. Accuracy: 9.873096446700508\n",
      "Epoch:  13\n",
      "Iteration: 9500. Loss: 2.3035244941711426. Accuracy: 9.746192893401016\n",
      "Iteration: 10000. Loss: 2.2971789836883545. Accuracy: 9.263959390862944\n",
      "Epoch:  14\n",
      "Iteration: 10500. Loss: 2.2973058223724365. Accuracy: 9.847715736040609\n",
      "Iteration: 11000. Loss: 2.2987802028656006. Accuracy: 9.67005076142132\n",
      "Epoch:  15\n",
      "Iteration: 11500. Loss: 2.295928478240967. Accuracy: 14.263959390862944\n",
      "Epoch:  16\n",
      "Iteration: 12000. Loss: 2.2969748973846436. Accuracy: 9.746192893401016\n",
      "Iteration: 12500. Loss: 2.2890098094940186. Accuracy: 9.720812182741117\n",
      "Epoch:  17\n",
      "Iteration: 13000. Loss: 2.2816503047943115. Accuracy: 15.685279187817258\n",
      "Epoch:  18\n",
      "Iteration: 13500. Loss: 2.270620822906494. Accuracy: 9.365482233502538\n",
      "Iteration: 14000. Loss: 2.2606072425842285. Accuracy: 9.441624365482234\n",
      "Epoch:  19\n",
      "Iteration: 14500. Loss: 2.248142719268799. Accuracy: 19.67005076142132\n",
      "Epoch:  20\n",
      "Iteration: 15000. Loss: 2.275524616241455. Accuracy: 17.00507614213198\n",
      "Iteration: 15500. Loss: 2.183948278427124. Accuracy: 16.700507614213198\n",
      "Epoch:  21\n",
      "Iteration: 16000. Loss: 2.214792490005493. Accuracy: 20.20304568527919\n",
      "Iteration: 16500. Loss: 2.031534433364868. Accuracy: 25.888324873096447\n",
      "Epoch:  22\n",
      "Iteration: 17000. Loss: 2.115813732147217. Accuracy: 17.538071065989847\n",
      "Epoch:  23\n",
      "Iteration: 17500. Loss: 2.0745017528533936. Accuracy: 21.19289340101523\n",
      "Iteration: 18000. Loss: 2.4363656044006348. Accuracy: 10.83756345177665\n",
      "Epoch:  24\n",
      "Iteration: 18500. Loss: 2.145387887954712. Accuracy: 21.903553299492387\n",
      "Epoch:  25\n",
      "Iteration: 19000. Loss: 2.761197090148926. Accuracy: 10.355329949238579\n",
      "Iteration: 19500. Loss: 2.084205389022827. Accuracy: 15.0\n"
     ]
    }
   ],
   "source": [
    "iteration_loss = []\n",
    "iter = 0\n",
    "for epoch in range(num_epochs):\n",
    "    print('Epoch: ', epoch + 1)\n",
    "    for i, (images, labels) in enumerate(train_loader):\n",
    "\n",
    "        images = images.view(-1, 28*28).to(device)\n",
    "        labels = labels.to(device)\n",
    "\n",
    "        optimizer.zero_grad()\n",
    "\n",
    "        outputs = model(images) \n",
    "\n",
    "        loss = criterion(outputs, labels)\n",
    "\n",
    "        loss.backward()\n",
    "\n",
    "        optimizer.step()\n",
    "\n",
    "        iter += 1\n",
    "\n",
    "        if iter % 500 == 0:        \n",
    "            correct = 0\n",
    "            total = 0\n",
    "            for images, labels in test_loader:\n",
    "               \n",
    "                images = images.view(-1, 28*28).to(device)\n",
    "\n",
    "                outputs = model(images)\n",
    "\n",
    "                _, predicted = torch.max(outputs, 1)\n",
    "\n",
    "                total += labels.size(0)\n",
    "\n",
    "                if torch.cuda.is_available():\n",
    "                    correct += (predicted.cpu() == labels.cpu()).sum() \n",
    "                else:\n",
    "                    correct += (predicted == labels).sum()\n",
    "\n",
    "            accuracy = 100 * correct.item() / total\n",
    "\n",
    "            iteration_loss.append(loss.item())\n",
    "            print('Iteration: {}. Loss: {}. Accuracy: {}'.format(iter, loss.item(), accuracy))"
   ]
  },
  {
   "cell_type": "code",
   "execution_count": 74,
   "metadata": {
    "id": "IwU44FpRqO9t"
   },
   "outputs": [],
   "source": [
    "torch.save(model.state_dict(), 'model_base.pkl')"
   ]
  },
  {
   "cell_type": "code",
   "execution_count": 75,
   "metadata": {
    "colab": {
     "base_uri": "https://localhost:8080/",
     "height": 316
    },
    "id": "1AIS0RVwq8ul",
    "outputId": "91f24f38-911c-4bca-bde1-107f33dc4107"
   },
   "outputs": [
    {
     "name": "stdout",
     "output_type": "stream",
     "text": [
      "[2.3024277687072754, 2.3062901496887207, 2.299248218536377, 2.3047289848327637, 2.300363302230835, 2.297542095184326, 2.3001837730407715, 2.3037359714508057, 2.3062491416931152, 2.2998266220092773, 2.302612066268921, 2.2996628284454346, 2.303332805633545, 2.2985565662384033, 2.3036649227142334, 2.299359083175659, 2.297351598739624, 2.303452491760254, 2.3035244941711426, 2.2971789836883545, 2.2973058223724365, 2.2987802028656006, 2.295928478240967, 2.2969748973846436, 2.2890098094940186, 2.2816503047943115, 2.270620822906494, 2.2606072425842285, 2.248142719268799, 2.275524616241455, 2.183948278427124, 2.214792490005493, 2.031534433364868, 2.115813732147217, 2.0745017528533936, 2.4363656044006348, 2.145387887954712, 2.761197090148926, 2.084205389022827]\n"
     ]
    },
    {
     "data": {
      "image/png": "[encoded data removed]",
      "text/plain": [
       "<Figure size 432x288 with 1 Axes>"
      ]
     },
     "metadata": {
      "needs_background": "light"
     },
     "output_type": "display_data"
    }
   ],
   "source": [
    "print (iteration_loss)\n",
    "plt.plot(iteration_loss)\n",
    "plt.ylabel('Loss')\n",
    "plt.xlabel('Iteration')\n",
    "plt.show()"
   ]
  },
  {
   "cell_type": "markdown",
   "metadata": {},
   "source": [
    "## Approach 1:  Batch Size 200,number of hidden nodes 100 and learning rate is 0.001. CELU activation function with 4 hidden layer.\n"
   ]
  },
  {
   "cell_type": "code",
   "execution_count": 73,
   "metadata": {},
   "outputs": [
    {
     "name": "stdout",
     "output_type": "stream",
     "text": [
      "253\n"
     ]
    }
   ],
   "source": [
    "# Hyperparameters\n",
    "\n",
    "batch_size = 200\n",
    "num_iters = 20000\n",
    "input_dim = 28*28 # num_features = 784\n",
    "num_hidden = 100 # num of hidden nodes\n",
    "output_dim = 10\n",
    "\n",
    "learning_rate = 0.001  # More power so we can learn faster! previously it was 0.001\n",
    "\n",
    "num_epochs = num_iters / (len(train_sampler) / batch_size)\n",
    "num_epochs = int(num_epochs)\n",
    "print(num_epochs)\n",
    "\n",
    "# Device\n",
    "device = torch.device(\"cuda:0\" if torch.cuda.is_available() else \"cpu\")"
   ]
  },
  {
   "cell_type": "code",
   "execution_count": 76,
   "metadata": {
    "scrolled": true
   },
   "outputs": [
    {
     "name": "stdout",
     "output_type": "stream",
     "text": [
      "Train dataloader:79\n",
      "Test dataloader:20\n"
     ]
    }
   ],
   "source": [
    "test_size = 0.2\n",
    "num_train = len(train_data)\n",
    "indices = list(range(num_train))\n",
    "np.random.shuffle(indices)\n",
    "\n",
    "\n",
    "\n",
    "split = int(np.floor(test_size * num_train))\n",
    "train_idx, test_idx = indices[split:], indices[:split]\n",
    "\n",
    "train_sampler = SubsetRandomSampler(train_idx)\n",
    "test_sampler = SubsetRandomSampler(test_idx)\n",
    "\n",
    "\n",
    "\n",
    "train_loader = torch.utils.data.DataLoader(\n",
    "    train_data, batch_size=batch_size,\n",
    "    sampler=train_sampler)\n",
    "\n",
    "test_loader = torch.utils.data.DataLoader(\n",
    "    test_data, batch_size=batch_size,\n",
    "    sampler=test_sampler)\n",
    "\n",
    "\n",
    "\n",
    "print(\"Train dataloader:{}\".format(len(train_loader)))\n",
    "print(\"Test dataloader:{}\".format(len(test_loader)))"
   ]
  },
  {
   "cell_type": "code",
   "execution_count": 77,
   "metadata": {},
   "outputs": [],
   "source": [
    "class DeepNeuralNetworkModel(nn.Module):\n",
    "    def __init__(self, input_size, num_classes, num_hidden):\n",
    "        super().__init__()\n",
    "        ### 1st hidden layer: 784 --> 100\n",
    "        self.linear_1 = nn.Linear(input_size, num_hidden)\n",
    "        ### Non-linearity in 1st hidden layer\n",
    "        self.celu_1 = nn.CELU()\n",
    "\n",
    "        ### 2nd hidden layer: 100 --> 100\n",
    "        self.linear_2 = nn.Linear(num_hidden, num_hidden)\n",
    "        ### Non-linearity in 2nd hidden layer\n",
    "        self.celu_2 = nn.CELU()\n",
    "        \n",
    "        ### 3rd hidden layer: 100 --> 100\n",
    "        self.linear_3 = nn.Linear(num_hidden, num_hidden)\n",
    "        ### Non-linearity in 3rd hidden layer\n",
    "        self.celu_3 = nn.CELU()\n",
    "        \n",
    "        ### 4th hidden layer: 100 --> 100\n",
    "        self.linear_4 = nn.Linear(num_hidden, num_hidden)\n",
    "        ### Non-linearity in 4th hidden layer\n",
    "        self.celu_4 = nn.CELU()\n",
    "\n",
    "        ### Output layer: 100 --> 10\n",
    "        self.linear_out = nn.Linear(num_hidden, num_classes)\n",
    "\n",
    "    def forward(self, x):\n",
    "        ### 1st hidden layer\n",
    "        out  = self.linear_1(x)\n",
    "        ### Non-linearity in 1st hidden layer\n",
    "        out = self.celu_1(out)\n",
    "        \n",
    "        ### 2nd hidden layer\n",
    "        out  = self.linear_2(out)\n",
    "        ### Non-linearity in 2nd hidden layer\n",
    "        out = self.celu_2(out)\n",
    "        \n",
    "        ### 3rd hidden layer\n",
    "        out  = self.linear_3(out)\n",
    "        ### Non-linearity in 3rd hidden layer\n",
    "        out = self.celu_3(out)\n",
    "        \n",
    "        ### 4th hidden layer\n",
    "        out  = self.linear_4(out)\n",
    "        ### Non-linearity in 3rd hidden layer\n",
    "        out = self.celu_4(out)\n",
    "        \n",
    "        # Linear layer (output)\n",
    "        probas  = self.linear_out(out)\n",
    "        return probas"
   ]
  },
  {
   "cell_type": "code",
   "execution_count": 78,
   "metadata": {},
   "outputs": [
    {
     "data": {
      "text/plain": [
       "DeepNeuralNetworkModel(\n",
       "  (linear_1): Linear(in_features=784, out_features=100, bias=True)\n",
       "  (celu_1): CELU(alpha=1.0)\n",
       "  (linear_2): Linear(in_features=100, out_features=100, bias=True)\n",
       "  (celu_2): CELU(alpha=1.0)\n",
       "  (linear_3): Linear(in_features=100, out_features=100, bias=True)\n",
       "  (celu_3): CELU(alpha=1.0)\n",
       "  (linear_4): Linear(in_features=100, out_features=100, bias=True)\n",
       "  (celu_4): CELU(alpha=1.0)\n",
       "  (linear_out): Linear(in_features=100, out_features=10, bias=True)\n",
       ")"
      ]
     },
     "execution_count": 78,
     "metadata": {},
     "output_type": "execute_result"
    }
   ],
   "source": [
    "# INSTANTIATE MODEL CLASS\n",
    "\n",
    "model = DeepNeuralNetworkModel(input_size = input_dim,\n",
    "                               num_classes = output_dim,\n",
    "                               num_hidden = num_hidden\n",
    "                              )\n",
    "# To enable GPU\n",
    "model.to(device)\n"
   ]
  },
  {
   "cell_type": "code",
   "execution_count": 79,
   "metadata": {},
   "outputs": [],
   "source": [
    "criterion = nn.CrossEntropyLoss()\n",
    "optimizer = torch.optim.Adam(model.parameters(), lr = learning_rate)"
   ]
  },
  {
   "cell_type": "code",
   "execution_count": 80,
   "metadata": {},
   "outputs": [
    {
     "name": "stdout",
     "output_type": "stream",
     "text": [
      "Epoch:  1\n",
      "Epoch:  2\n",
      "Epoch:  3\n",
      "Epoch:  4\n",
      "Epoch:  5\n",
      "Epoch:  6\n",
      "Epoch:  7\n",
      "Iteration: 500. Loss: 1.1498351097106934. Accuracy: 56.47208121827411\n",
      "Epoch:  8\n",
      "Epoch:  9\n",
      "Epoch:  10\n",
      "Epoch:  11\n",
      "Epoch:  12\n",
      "Epoch:  13\n",
      "Iteration: 1000. Loss: 0.807729959487915. Accuracy: 70.88832487309645\n",
      "Epoch:  14\n",
      "Epoch:  15\n",
      "Epoch:  16\n",
      "Epoch:  17\n",
      "Epoch:  18\n",
      "Epoch:  19\n",
      "Iteration: 1500. Loss: 0.5954529643058777. Accuracy: 78.02030456852792\n",
      "Epoch:  20\n",
      "Epoch:  21\n",
      "Epoch:  22\n",
      "Epoch:  23\n",
      "Epoch:  24\n",
      "Epoch:  25\n",
      "Epoch:  26\n",
      "Iteration: 2000. Loss: 0.48603206872940063. Accuracy: 78.88324873096447\n",
      "Epoch:  27\n",
      "Epoch:  28\n",
      "Epoch:  29\n",
      "Epoch:  30\n",
      "Epoch:  31\n",
      "Epoch:  32\n",
      "Iteration: 2500. Loss: 0.5842519998550415. Accuracy: 82.81725888324873\n",
      "Epoch:  33\n",
      "Epoch:  34\n",
      "Epoch:  35\n",
      "Epoch:  36\n",
      "Epoch:  37\n",
      "Epoch:  38\n",
      "Iteration: 3000. Loss: 0.5448495745658875. Accuracy: 77.03045685279187\n",
      "Epoch:  39\n",
      "Epoch:  40\n",
      "Epoch:  41\n",
      "Epoch:  42\n",
      "Epoch:  43\n",
      "Epoch:  44\n",
      "Epoch:  45\n",
      "Iteration: 3500. Loss: 0.489406019449234. Accuracy: 82.08121827411168\n",
      "Epoch:  46\n",
      "Epoch:  47\n",
      "Epoch:  48\n",
      "Epoch:  49\n",
      "Epoch:  50\n",
      "Epoch:  51\n",
      "Iteration: 4000. Loss: 0.39592206478118896. Accuracy: 85.50761421319797\n",
      "Epoch:  52\n",
      "Epoch:  53\n",
      "Epoch:  54\n",
      "Epoch:  55\n",
      "Epoch:  56\n",
      "Epoch:  57\n",
      "Iteration: 4500. Loss: 0.36677002906799316. Accuracy: 85.53299492385787\n",
      "Epoch:  58\n",
      "Epoch:  59\n",
      "Epoch:  60\n",
      "Epoch:  61\n",
      "Epoch:  62\n",
      "Epoch:  63\n",
      "Epoch:  64\n",
      "Iteration: 5000. Loss: 0.3483790457248688. Accuracy: 84.54314720812182\n",
      "Epoch:  65\n",
      "Epoch:  66\n",
      "Epoch:  67\n",
      "Epoch:  68\n",
      "Epoch:  69\n",
      "Epoch:  70\n",
      "Iteration: 5500. Loss: 0.35731926560401917. Accuracy: 85.65989847715736\n",
      "Epoch:  71\n",
      "Epoch:  72\n",
      "Epoch:  73\n",
      "Epoch:  74\n",
      "Epoch:  75\n",
      "Epoch:  76\n",
      "Iteration: 6000. Loss: 0.5256247520446777. Accuracy: 83.93401015228426\n",
      "Epoch:  77\n",
      "Epoch:  78\n",
      "Epoch:  79\n",
      "Epoch:  80\n",
      "Epoch:  81\n",
      "Epoch:  82\n",
      "Epoch:  83\n",
      "Iteration: 6500. Loss: 0.31356924772262573. Accuracy: 84.77157360406092\n",
      "Epoch:  84\n",
      "Epoch:  85\n",
      "Epoch:  86\n",
      "Epoch:  87\n",
      "Epoch:  88\n",
      "Epoch:  89\n",
      "Iteration: 7000. Loss: 0.2662091553211212. Accuracy: 89.34010152284264\n",
      "Epoch:  90\n",
      "Epoch:  91\n",
      "Epoch:  92\n",
      "Epoch:  93\n",
      "Epoch:  94\n",
      "Epoch:  95\n",
      "Iteration: 7500. Loss: 0.2318783402442932. Accuracy: 81.95431472081218\n",
      "Epoch:  96\n",
      "Epoch:  97\n",
      "Epoch:  98\n",
      "Epoch:  99\n",
      "Epoch:  100\n",
      "Epoch:  101\n",
      "Epoch:  102\n",
      "Iteration: 8000. Loss: 0.8906571269035339. Accuracy: 79.61928934010152\n",
      "Epoch:  103\n",
      "Epoch:  104\n",
      "Epoch:  105\n",
      "Epoch:  106\n",
      "Epoch:  107\n",
      "Epoch:  108\n",
      "Iteration: 8500. Loss: 0.1961275041103363. Accuracy: 82.66497461928934\n",
      "Epoch:  109\n",
      "Epoch:  110\n",
      "Epoch:  111\n",
      "Epoch:  112\n",
      "Epoch:  113\n",
      "Epoch:  114\n",
      "Iteration: 9000. Loss: 0.3186757266521454. Accuracy: 86.44670050761421\n",
      "Epoch:  115\n",
      "Epoch:  116\n",
      "Epoch:  117\n",
      "Epoch:  118\n",
      "Epoch:  119\n",
      "Epoch:  120\n",
      "Epoch:  121\n",
      "Iteration: 9500. Loss: 0.1255558580160141. Accuracy: 89.46700507614213\n",
      "Epoch:  122\n",
      "Epoch:  123\n",
      "Epoch:  124\n",
      "Epoch:  125\n",
      "Epoch:  126\n",
      "Epoch:  127\n",
      "Iteration: 10000. Loss: 0.15154439210891724. Accuracy: 84.79695431472081\n",
      "Epoch:  128\n",
      "Epoch:  129\n",
      "Epoch:  130\n",
      "Epoch:  131\n",
      "Epoch:  132\n",
      "Epoch:  133\n",
      "Iteration: 10500. Loss: 0.17400965094566345. Accuracy: 90.98984771573605\n",
      "Epoch:  134\n",
      "Epoch:  135\n",
      "Epoch:  136\n",
      "Epoch:  137\n",
      "Epoch:  138\n",
      "Epoch:  139\n",
      "Epoch:  140\n",
      "Iteration: 11000. Loss: 0.17784465849399567. Accuracy: 89.56852791878173\n",
      "Epoch:  141\n",
      "Epoch:  142\n",
      "Epoch:  143\n",
      "Epoch:  144\n",
      "Epoch:  145\n",
      "Epoch:  146\n",
      "Iteration: 11500. Loss: 0.15319250524044037. Accuracy: 91.5482233502538\n",
      "Epoch:  147\n",
      "Epoch:  148\n",
      "Epoch:  149\n",
      "Epoch:  150\n",
      "Epoch:  151\n",
      "Epoch:  152\n",
      "Iteration: 12000. Loss: 0.0981634110212326. Accuracy: 87.91878172588832\n",
      "Epoch:  153\n",
      "Epoch:  154\n",
      "Epoch:  155\n",
      "Epoch:  156\n",
      "Epoch:  157\n",
      "Epoch:  158\n",
      "Epoch:  159\n",
      "Iteration: 12500. Loss: 0.06706172227859497. Accuracy: 88.93401015228426\n",
      "Epoch:  160\n",
      "Epoch:  161\n",
      "Epoch:  162\n",
      "Epoch:  163\n",
      "Epoch:  164\n",
      "Epoch:  165\n",
      "Iteration: 13000. Loss: 0.15903860330581665. Accuracy: 88.12182741116752\n",
      "Epoch:  166\n",
      "Epoch:  167\n",
      "Epoch:  168\n",
      "Epoch:  169\n",
      "Epoch:  170\n",
      "Epoch:  171\n",
      "Iteration: 13500. Loss: 0.05651538819074631. Accuracy: 90.78680203045685\n",
      "Epoch:  172\n",
      "Epoch:  173\n",
      "Epoch:  174\n",
      "Epoch:  175\n",
      "Epoch:  176\n",
      "Epoch:  177\n",
      "Epoch:  178\n",
      "Iteration: 14000. Loss: 0.03161216899752617. Accuracy: 91.44670050761421\n",
      "Epoch:  179\n",
      "Epoch:  180\n",
      "Epoch:  181\n",
      "Epoch:  182\n",
      "Epoch:  183\n",
      "Epoch:  184\n",
      "Iteration: 14500. Loss: 0.10493748635053635. Accuracy: 89.9746192893401\n",
      "Epoch:  185\n",
      "Epoch:  186\n",
      "Epoch:  187\n",
      "Epoch:  188\n",
      "Epoch:  189\n",
      "Epoch:  190\n",
      "Iteration: 15000. Loss: 0.03617647662758827. Accuracy: 91.5989847715736\n",
      "Epoch:  191\n",
      "Epoch:  192\n",
      "Epoch:  193\n",
      "Epoch:  194\n",
      "Epoch:  195\n",
      "Epoch:  196\n",
      "Epoch:  197\n",
      "Iteration: 15500. Loss: 0.0582222118973732. Accuracy: 91.7258883248731\n",
      "Epoch:  198\n",
      "Epoch:  199\n",
      "Epoch:  200\n",
      "Epoch:  201\n",
      "Epoch:  202\n",
      "Epoch:  203\n",
      "Iteration: 16000. Loss: 0.4963902533054352. Accuracy: 60.68527918781726\n",
      "Epoch:  204\n",
      "Epoch:  205\n",
      "Epoch:  206\n",
      "Epoch:  207\n",
      "Epoch:  208\n",
      "Epoch:  209\n",
      "Iteration: 16500. Loss: 0.04951867461204529. Accuracy: 92.00507614213198\n",
      "Epoch:  210\n",
      "Epoch:  211\n",
      "Epoch:  212\n",
      "Epoch:  213\n",
      "Epoch:  214\n",
      "Epoch:  215\n",
      "Epoch:  216\n",
      "Iteration: 17000. Loss: 0.08768200874328613. Accuracy: 89.8730964467005\n",
      "Epoch:  217\n",
      "Epoch:  218\n",
      "Epoch:  219\n",
      "Epoch:  220\n",
      "Epoch:  221\n",
      "Epoch:  222\n",
      "Iteration: 17500. Loss: 0.41394370794296265. Accuracy: 89.84771573604061\n",
      "Epoch:  223\n",
      "Epoch:  224\n",
      "Epoch:  225\n",
      "Epoch:  226\n",
      "Epoch:  227\n",
      "Epoch:  228\n",
      "Iteration: 18000. Loss: 0.06642570346593857. Accuracy: 90.43147208121827\n",
      "Epoch:  229\n",
      "Epoch:  230\n",
      "Epoch:  231\n",
      "Epoch:  232\n",
      "Epoch:  233\n",
      "Epoch:  234\n",
      "Epoch:  235\n",
      "Iteration: 18500. Loss: 0.07469926029443741. Accuracy: 90.0253807106599\n",
      "Epoch:  236\n",
      "Epoch:  237\n",
      "Epoch:  238\n",
      "Epoch:  239\n",
      "Epoch:  240\n",
      "Epoch:  241\n",
      "Iteration: 19000. Loss: 0.039196062833070755. Accuracy: 92.36040609137056\n",
      "Epoch:  242\n",
      "Epoch:  243\n",
      "Epoch:  244\n",
      "Epoch:  245\n",
      "Epoch:  246\n",
      "Epoch:  247\n",
      "Iteration: 19500. Loss: 0.06030278280377388. Accuracy: 91.87817258883248\n",
      "Epoch:  248\n",
      "Epoch:  249\n",
      "Epoch:  250\n",
      "Epoch:  251\n",
      "Epoch:  252\n",
      "Epoch:  253\n"
     ]
    }
   ],
   "source": [
    "iteration_loss = []\n",
    "iter = 0\n",
    "for epoch in range(num_epochs):\n",
    "    print('Epoch: ', epoch + 1)\n",
    "    for i, (images, labels) in enumerate(train_loader):\n",
    "\n",
    "        images = images.view(-1, 28*28).to(device)\n",
    "        labels = labels.to(device)\n",
    "\n",
    "        optimizer.zero_grad()\n",
    "\n",
    "        outputs = model(images) \n",
    "\n",
    "        loss = criterion(outputs, labels)\n",
    "\n",
    "        loss.backward()\n",
    "\n",
    "        optimizer.step()\n",
    "\n",
    "        iter += 1\n",
    "\n",
    "        if iter % 500 == 0:        \n",
    "            correct = 0\n",
    "            total = 0\n",
    "            for images, labels in test_loader:\n",
    "               \n",
    "                images = images.view(-1, 28*28).to(device)\n",
    "\n",
    "                outputs = model(images)\n",
    "\n",
    "                _, predicted = torch.max(outputs, 1)\n",
    "\n",
    "                total += labels.size(0)\n",
    "\n",
    "                if torch.cuda.is_available():\n",
    "                    correct += (predicted.cpu() == labels.cpu()).sum() \n",
    "                else:\n",
    "                    correct += (predicted == labels).sum()\n",
    "\n",
    "            accuracy = 100 * correct.item() / total\n",
    "            iteration_loss.append(loss.item())\n",
    "            print('Iteration: {}. Loss: {}. Accuracy: {}'.format(iter, loss.item(), accuracy))\n"
   ]
  },
  {
   "cell_type": "code",
   "execution_count": 81,
   "metadata": {},
   "outputs": [],
   "source": [
    "torch.save(model.state_dict(), 'model_base.pkl1')"
   ]
  },
  {
   "cell_type": "code",
   "execution_count": 88,
   "metadata": {},
   "outputs": [
    {
     "data": {
      "image/png": "[encoded data removed]",
      "text/plain": [
       "<Figure size 432x288 with 1 Axes>"
      ]
     },
     "metadata": {
      "needs_background": "light"
     },
     "output_type": "display_data"
    }
   ],
   "source": [
    "plt.plot(iteration_loss)\n",
    "plt.ylabel('Loss')\n",
    "plt.xlabel('Iteration')\n",
    "plt.show()"
   ]
  },
  {
   "cell_type": "markdown",
   "metadata": {},
   "source": [
    "## Approach 2: "
   ]
  },
  {
   "cell_type": "code",
   "execution_count": 89,
   "metadata": {},
   "outputs": [
    {
     "name": "stdout",
     "output_type": "stream",
     "text": [
      "475\n"
     ]
    }
   ],
   "source": [
    "batch_size = 250\n",
    "num_iters = 30000\n",
    "input_dim = 28*28\n",
    "num_hidden = 200\n",
    "output_dim = 10\n",
    "\n",
    "learning_rate = 0.01\n",
    "\n",
    "num_epochs = num_iters / (len(train_sampler) / batch_size)\n",
    "num_epochs = int(num_epochs)\n",
    "print(num_epochs)\n",
    "\n",
    "device = torch.device(\"cuda:0\" if torch.cuda.is_available() else \"cpu\")"
   ]
  },
  {
   "cell_type": "code",
   "execution_count": 90,
   "metadata": {},
   "outputs": [
    {
     "name": "stdout",
     "output_type": "stream",
     "text": [
      "Train dataloader:64\n",
      "Test dataloader:16\n"
     ]
    }
   ],
   "source": [
    "test_size = 0.2\n",
    "\n",
    "num_train = len(train_data)\n",
    "indices = list(range(num_train))\n",
    "np.random.shuffle(indices)\n",
    "\n",
    "\n",
    "split = int(np.floor(test_size * num_train))\n",
    "train_idx, test_idx = indices[split:], indices[:split]\n",
    "\n",
    "train_sampler = SubsetRandomSampler(train_idx)\n",
    "test_sampler = SubsetRandomSampler(test_idx)\n",
    "\n",
    "\n",
    "\n",
    "train_loader = torch.utils.data.DataLoader(\n",
    "    train_data, batch_size=batch_size,\n",
    "    sampler=train_sampler)\n",
    "\n",
    "test_loader = torch.utils.data.DataLoader(\n",
    "    test_data, batch_size=batch_size,\n",
    "    sampler=test_sampler)\n",
    "\n",
    "\n",
    "print(\"Train dataloader:{}\".format(len(train_loader)))\n",
    "print(\"Test dataloader:{}\".format(len(test_loader)))"
   ]
  },
  {
   "cell_type": "code",
   "execution_count": 91,
   "metadata": {},
   "outputs": [],
   "source": [
    "class DeepNeuralNetworkModel(nn.Module):\n",
    "    def __init__(self, input_size, num_classes, num_hidden):\n",
    "        super().__init__()\n",
    "       \n",
    "        self.linear_1 = nn.Linear(input_size, num_hidden)\n",
    "        self.relu_1 = nn.ReLU()\n",
    " \n",
    "        self.linear_2 = nn.Linear(num_hidden, num_hidden)\n",
    "        self.relu_2 = nn.ReLU()\n",
    " \n",
    "        self.linear_3 = nn.Linear(num_hidden, num_hidden)\n",
    "        self.relu_3 = nn.ReLU()\n",
    " \n",
    "        self.linear_out = nn.Linear(num_hidden, num_classes)\n",
    " \n",
    "    def forward(self, x):\n",
    "        out  = self.linear_1(x)\n",
    "        out = self.relu_1(out)\n",
    "        \n",
    "        out  = self.linear_2(out)\n",
    "        out = self.relu_2(out)\n",
    " \n",
    "        out  = self.linear_3(out)\n",
    "        out = self.relu_3(out)\n",
    "        \n",
    "        probas  = self.linear_out(out)\n",
    "        return probas"
   ]
  },
  {
   "cell_type": "markdown",
   "metadata": {},
   "source": [
    "#### INSTANTIATE MODEL CLASS"
   ]
  },
  {
   "cell_type": "code",
   "execution_count": 92,
   "metadata": {},
   "outputs": [
    {
     "data": {
      "text/plain": [
       "DeepNeuralNetworkModel(\n",
       "  (linear_1): Linear(in_features=784, out_features=200, bias=True)\n",
       "  (relu_1): ReLU()\n",
       "  (linear_2): Linear(in_features=200, out_features=200, bias=True)\n",
       "  (relu_2): ReLU()\n",
       "  (linear_3): Linear(in_features=200, out_features=200, bias=True)\n",
       "  (relu_3): ReLU()\n",
       "  (linear_out): Linear(in_features=200, out_features=10, bias=True)\n",
       ")"
      ]
     },
     "execution_count": 92,
     "metadata": {},
     "output_type": "execute_result"
    }
   ],
   "source": [
    "model = DeepNeuralNetworkModel(input_size = input_dim,\n",
    "                               num_classes = output_dim,\n",
    "                               num_hidden = num_hidden\n",
    "                              )\n",
    "#To enable GPU\n",
    "\n",
    "model.to(device)"
   ]
  },
  {
   "cell_type": "code",
   "execution_count": 93,
   "metadata": {},
   "outputs": [],
   "source": [
    "criterion = nn.CrossEntropyLoss()\n",
    "optimizer = torch.optim.SGD(model.parameters(), lr=learning_rate)"
   ]
  },
  {
   "cell_type": "code",
   "execution_count": 94,
   "metadata": {},
   "outputs": [
    {
     "name": "stdout",
     "output_type": "stream",
     "text": [
      "Iteration: 500. Loss: 2.2963602542877197. Accuracy: 9.695431472081218\n",
      "Iteration: 1000. Loss: 2.292970895767212. Accuracy: 11.776649746192893\n",
      "Iteration: 1500. Loss: 2.2871947288513184. Accuracy: 12.563451776649746\n",
      "Iteration: 2000. Loss: 2.282362937927246. Accuracy: 21.091370558375633\n",
      "Iteration: 2500. Loss: 2.27449107170105. Accuracy: 22.81725888324873\n",
      "Iteration: 3000. Loss: 2.2585811614990234. Accuracy: 25.634517766497463\n",
      "Iteration: 3500. Loss: 2.1728386878967285. Accuracy: 23.426395939086294\n",
      "Iteration: 4000. Loss: 2.125058174133301. Accuracy: 26.903553299492387\n",
      "Iteration: 4500. Loss: 2.0830931663513184. Accuracy: 30.81218274111675\n",
      "Iteration: 5000. Loss: 2.056431293487549. Accuracy: 20.380710659898476\n",
      "Iteration: 5500. Loss: 1.8294837474822998. Accuracy: 34.67005076142132\n",
      "Iteration: 6000. Loss: 1.8864601850509644. Accuracy: 34.974619289340104\n",
      "Iteration: 6500. Loss: 1.7794727087020874. Accuracy: 29.086294416243653\n",
      "Iteration: 7000. Loss: 2.108072280883789. Accuracy: 26.903553299492387\n",
      "Iteration: 7500. Loss: 1.4516674280166626. Accuracy: 45.27918781725889\n",
      "Iteration: 8000. Loss: 1.1766434907913208. Accuracy: 43.68020304568528\n",
      "Iteration: 8500. Loss: 1.508843183517456. Accuracy: 50.964467005076145\n",
      "Iteration: 9000. Loss: 1.4364839792251587. Accuracy: 50.253807106598984\n",
      "Iteration: 9500. Loss: 1.3520662784576416. Accuracy: 49.111675126903556\n",
      "Iteration: 10000. Loss: 1.2932016849517822. Accuracy: 58.223350253807105\n",
      "Iteration: 10500. Loss: 1.2201484441757202. Accuracy: 60.86294416243655\n",
      "Iteration: 11000. Loss: 1.1793044805526733. Accuracy: 65.1269035532995\n",
      "Iteration: 11500. Loss: 1.0618120431900024. Accuracy: 62.74111675126903\n",
      "Iteration: 12000. Loss: 1.0828911066055298. Accuracy: 61.04060913705584\n",
      "Iteration: 12500. Loss: 1.1427234411239624. Accuracy: 60.71065989847716\n",
      "Iteration: 13000. Loss: 1.3319305181503296. Accuracy: 55.964467005076145\n",
      "Iteration: 13500. Loss: 0.8741326928138733. Accuracy: 69.9238578680203\n",
      "Iteration: 14000. Loss: 0.7952064275741577. Accuracy: 71.5989847715736\n",
      "Iteration: 14500. Loss: 0.990843653678894. Accuracy: 68.55329949238579\n",
      "Iteration: 15000. Loss: 0.908195972442627. Accuracy: 71.6243654822335\n",
      "Iteration: 15500. Loss: 0.9215807318687439. Accuracy: 70.40609137055837\n",
      "Iteration: 16000. Loss: 0.7026171684265137. Accuracy: 70.32994923857868\n",
      "Iteration: 16500. Loss: 0.6922288537025452. Accuracy: 70.86294416243655\n",
      "Iteration: 17000. Loss: 0.8210046291351318. Accuracy: 73.02030456852792\n",
      "Iteration: 17500. Loss: 0.7161675095558167. Accuracy: 71.7005076142132\n",
      "Iteration: 18000. Loss: 0.7341806292533875. Accuracy: 75.93908629441624\n",
      "Iteration: 18500. Loss: 0.6955987811088562. Accuracy: 74.49238578680203\n",
      "Iteration: 19000. Loss: 0.6995133757591248. Accuracy: 76.29441624365482\n",
      "Iteration: 19500. Loss: 0.6853367686271667. Accuracy: 77.48730964467005\n",
      "Iteration: 20000. Loss: 0.8954980969429016. Accuracy: 69.01015228426395\n",
      "Iteration: 20500. Loss: 0.6359702944755554. Accuracy: 79.8984771573604\n",
      "Iteration: 21000. Loss: 0.5473960041999817. Accuracy: 80.1015228426396\n",
      "Iteration: 21500. Loss: 0.7617338299751282. Accuracy: 65.45685279187818\n",
      "Iteration: 22000. Loss: 0.808353066444397. Accuracy: 79.9238578680203\n",
      "Iteration: 22500. Loss: 0.8851986527442932. Accuracy: 76.11675126903553\n",
      "Iteration: 23000. Loss: 0.5377694964408875. Accuracy: 80.53299492385787\n",
      "Iteration: 23500. Loss: 0.6150322556495667. Accuracy: 81.80203045685279\n",
      "Iteration: 24000. Loss: 0.4995327889919281. Accuracy: 77.33502538071066\n",
      "Iteration: 24500. Loss: 0.5597972273826599. Accuracy: 80.76142131979695\n",
      "Iteration: 25000. Loss: 0.42416608333587646. Accuracy: 84.49238578680203\n",
      "Iteration: 25500. Loss: 0.591598391532898. Accuracy: 77.48730964467005\n",
      "Iteration: 26000. Loss: 0.46275150775909424. Accuracy: 84.69543147208122\n",
      "Iteration: 26500. Loss: 1.5996105670928955. Accuracy: 54.54314720812183\n",
      "Iteration: 27000. Loss: 0.4980567991733551. Accuracy: 81.90355329949239\n",
      "Iteration: 27500. Loss: 0.49752941727638245. Accuracy: 77.13197969543147\n",
      "Iteration: 28000. Loss: 0.5215640068054199. Accuracy: 82.53807106598985\n",
      "Iteration: 28500. Loss: 0.4363008439540863. Accuracy: 84.08629441624366\n",
      "Iteration: 29000. Loss: 0.9370459914207458. Accuracy: 75.50761421319797\n",
      "Iteration: 29500. Loss: 0.32322457432746887. Accuracy: 87.23350253807106\n",
      "Iteration: 30000. Loss: 0.47826749086380005. Accuracy: 84.61928934010152\n"
     ]
    }
   ],
   "source": [
    "iteration_loss = []\n",
    "iter = 0\n",
    "for epoch in range(num_epochs):\n",
    "    #print('Epoch: ', epoch + 1)\n",
    "    for i, (images, labels) in enumerate(train_loader):\n",
    "\n",
    "        images = images.view(-1, 28*28).to(device)\n",
    "        labels = labels.to(device)\n",
    "\n",
    "        optimizer.zero_grad()\n",
    "\n",
    "        outputs = model(images) \n",
    "\n",
    "        loss = criterion(outputs, labels)\n",
    "\n",
    "        loss.backward()\n",
    "\n",
    "        optimizer.step()\n",
    "\n",
    "        iter += 1\n",
    "\n",
    "        if iter % 500 == 0:        \n",
    "            correct = 0\n",
    "            total = 0\n",
    "            for images, labels in test_loader:\n",
    "               \n",
    "                images = images.view(-1, 28*28).to(device)\n",
    "\n",
    "                outputs = model(images)\n",
    "\n",
    "                _, predicted = torch.max(outputs, 1)\n",
    "\n",
    "                total += labels.size(0)\n",
    "\n",
    "                if torch.cuda.is_available():\n",
    "                    correct += (predicted.cpu() == labels.cpu()).sum() \n",
    "                else:\n",
    "                    correct += (predicted == labels).sum()\n",
    "\n",
    "            accuracy = 100 * correct.item() / total\n",
    "\n",
    "            iteration_loss.append(loss.item())\n",
    "            print('Iteration: {}. Loss: {}. Accuracy: {}'.format(iter, loss.item(), accuracy))"
   ]
  },
  {
   "cell_type": "code",
   "execution_count": 95,
   "metadata": {},
   "outputs": [
    {
     "data": {
      "image/png": "[encoded data removed]",
      "text/plain": [
       "<Figure size 432x288 with 1 Axes>"
      ]
     },
     "metadata": {
      "needs_background": "light"
     },
     "output_type": "display_data"
    }
   ],
   "source": [
    "plt.plot(iteration_loss)\n",
    "plt.ylabel('Loss')\n",
    "plt.xlabel('Iteration')\n",
    "plt.show()"
   ]
  },
  {
   "cell_type": "code",
   "execution_count": null,
   "metadata": {},
   "outputs": [],
   "source": []
  }
 ],
 "metadata": {
  "accelerator": "GPU",
  "colab": {
   "collapsed_sections": [],
   "name": "Untitled3.ipynb",
   "provenance": []
  },
  "kernelspec": {
   "display_name": "Python 3",
   "language": "python",
   "name": "python3"
  },
  "language_info": {
   "codemirror_mode": {
    "name": "ipython",
    "version": 3
   },
   "file_extension": ".py",
   "mimetype": "text/x-python",
   "name": "python",
   "nbconvert_exporter": "python",
   "pygments_lexer": "ipython3",
   "version": "3.8.5"
  }
 },
 "nbformat": 4,
 "nbformat_minor": 1
}
