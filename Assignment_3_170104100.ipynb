{
  "nbformat": 4,
  "nbformat_minor": 0,
  "metadata": {
    "colab": {
      "name": "Assignment_3_170104100.ipynb",
      "provenance": [],
      "collapsed_sections": [
        "yOspspfkYUPJ"
      ]
    },
    "kernelspec": {
      "name": "python3",
      "display_name": "Python 3"
    },
    "language_info": {
      "name": "python"
    },
    "accelerator": "GPU"
  },
  "cells": [
    {
      "cell_type": "markdown",
      "metadata": {
        "id": "oSvlC1BXMc-J"
      },
      "source": [
        "##**Evaluate the accuracy, precision, recall and F1 score for your model. Also show a confusion matrix and make predictions of Dataset 2 using Bi-LSTM Model.**"
      ]
    },
    {
      "cell_type": "code",
      "metadata": {
        "id": "AKBguP93Jr-4",
        "colab": {
          "base_uri": "https://localhost:8080/"
        },
        "outputId": "e01bac3f-1cb6-4b3b-cfed-96ced291d482"
      },
      "source": [
        "from google.colab import drive;\n",
        "drive.mount(\"/content/gdrive\");"
      ],
      "execution_count": 55,
      "outputs": [
        {
          "output_type": "stream",
          "name": "stdout",
          "text": [
            "Drive already mounted at /content/gdrive; to attempt to forcibly remount, call drive.mount(\"/content/gdrive\", force_remount=True).\n"
          ]
        }
      ]
    },
    {
      "cell_type": "markdown",
      "metadata": {
        "id": "QmLjkhAjJsZr"
      },
      "source": [
        "## libraires"
      ]
    },
    {
      "cell_type": "code",
      "metadata": {
        "id": "cX7dk6xIb4AN"
      },
      "source": [
        "import pandas as pd;\n",
        "import numpy as np;\n",
        "import matplotlib.pyplot as plt;\n",
        "import seaborn as sns;"
      ],
      "execution_count": 56,
      "outputs": []
    },
    {
      "cell_type": "markdown",
      "metadata": {
        "id": "9iLiCDVHJugJ"
      },
      "source": [
        "## load from csv"
      ]
    },
    {
      "cell_type": "code",
      "metadata": {
        "id": "CGmEWsOTb4Bf",
        "colab": {
          "base_uri": "https://localhost:8080/"
        },
        "outputId": "f7803cd3-5de5-4f8b-a54f-6890c3518058"
      },
      "source": [
        "\n",
        "df = pd.read_csv(\"/content/gdrive/MyDrive/Colab/Softcomputing/Dataset 2.csv\" , encoding = \"ISO-8859-1\");\n",
        "print(df.head(5));"
      ],
      "execution_count": 57,
      "outputs": [
        {
          "output_type": "stream",
          "name": "stdout",
          "text": [
            "                                                text  polarity\n",
            "0  just had a real good moment. i missssssssss hi...         0\n",
            "1         is reading manga  http://plurk.com/p/mzp1e         0\n",
            "2  @comeagainjen http://twitpic.com/2y2lx - http:...         0\n",
            "3  @lapcat Need to send 'em to my accountant tomo...         0\n",
            "4      ADD ME ON MYSPACE!!!  myspace.com/LookThunder         0\n"
          ]
        }
      ]
    },
    {
      "cell_type": "markdown",
      "metadata": {
        "id": "J-snElOmJxMp"
      },
      "source": [
        "## total length of csv data"
      ]
    },
    {
      "cell_type": "code",
      "metadata": {
        "id": "YMyXPWjChQX1",
        "colab": {
          "base_uri": "https://localhost:8080/"
        },
        "outputId": "32ffee3a-8691-4c82-92e9-29b8e55983d1"
      },
      "source": [
        "print(len(df));"
      ],
      "execution_count": 58,
      "outputs": [
        {
          "output_type": "stream",
          "name": "stdout",
          "text": [
            "10314\n"
          ]
        }
      ]
    },
    {
      "cell_type": "markdown",
      "metadata": {
        "id": "Rf9hPjzFJ1bB"
      },
      "source": [
        "## emotion count plot"
      ]
    },
    {
      "cell_type": "code",
      "metadata": {
        "id": "XwRmhl2Yb4Gu",
        "colab": {
          "base_uri": "https://localhost:8080/",
          "height": 665
        },
        "outputId": "3b45e44a-1f8d-4ae0-fa4a-3b76cadfbea3"
      },
      "source": [
        "col = 'polarity'\n",
        "\n",
        "fig, (ax1, ax2)  = plt.subplots(nrows=1, ncols=2, figsize=(12,8))\n",
        "print(df[col].dropna().value_counts());\n",
        "print((np.array(list(df[col].dropna().value_counts()))/sum(list(df[col].dropna().value_counts()))));\n",
        "explode = list((np.array(list(df[col].dropna().value_counts()))/sum(list(df[col].dropna().value_counts())))[::-1])\n",
        "print(explode);\n",
        "labels = ['0','1'];\n",
        "print(labels);\n",
        "sizes = df[col].value_counts()\n",
        "print(sizes)\n",
        "#ax1.pie(sizes, explode=explode, colors=bo, startangle=60, labels=labels,autopct='%1.0f%%', pctdistance=0.9)\n",
        "ax2.pie(sizes,  explode=explode, startangle=60, labels=labels,autopct='%.3f')\n",
        "ax2.add_artist(plt.Circle((5,5),0.5,fc='black'))\n",
        "sns.countplot(y =col, data = df, ax=ax1)\n",
        "ax1.set_title(\"Count of each emotion\")\n",
        "ax2.set_title(\"Percentage of each emotion\")\n",
        "plt.show()"
      ],
      "execution_count": 95,
      "outputs": [
        {
          "output_type": "stream",
          "name": "stdout",
          "text": [
            "0    8000\n",
            "1    2314\n",
            "Name: polarity, dtype: int64\n",
            "[0.77564475 0.22435525]\n",
            "[0.2243552452976537, 0.7756447547023463]\n",
            "['0', '1']\n",
            "0    8000\n",
            "1    2314\n",
            "Name: polarity, dtype: int64\n"
          ]
        },
        {
          "output_type": "display_data",
          "data": {
            "image/png": "[encoded data removed]",
            "text/plain": [
              "<Figure size 864x576 with 2 Axes>"
            ]
          },
          "metadata": {
            "needs_background": "light"
          }
        }
      ]
    },
    {
      "cell_type": "markdown",
      "metadata": {
        "id": "aO2eTYfDJ44y"
      },
      "source": [
        "## characters and tokens columns add"
      ]
    },
    {
      "cell_type": "code",
      "metadata": {
        "colab": {
          "base_uri": "https://localhost:8080/"
        },
        "id": "GsUPY0HFb4MT",
        "outputId": "92559c7e-83b8-48c1-fdaa-e69353081fd7"
      },
      "source": [
        "df['char_length'] = df['text'].apply(lambda x : len(x))\n",
        "df['token_length'] = df['text'].apply(lambda x : len(x.split(\" \")))\n",
        "print(df);"
      ],
      "execution_count": 60,
      "outputs": [
        {
          "output_type": "stream",
          "name": "stdout",
          "text": [
            "                                                    text  ...  token_length\n",
            "0      just had a real good moment. i missssssssss hi...  ...            12\n",
            "1             is reading manga  http://plurk.com/p/mzp1e  ...             5\n",
            "2      @comeagainjen http://twitpic.com/2y2lx - http:...  ...             5\n",
            "3      @lapcat Need to send 'em to my accountant tomo...  ...            23\n",
            "4          ADD ME ON MYSPACE!!!  myspace.com/LookThunder  ...             6\n",
            "...                                                  ...  ...           ...\n",
            "10309  No Depression by G Herbo is my mood from now o...  ...            20\n",
            "10310  What do you do when depression succumbs the br...  ...            18\n",
            "10311  Ketamine Nasal Spray Shows Promise Against Dep...  ...            10\n",
            "10312  dont mistake a bad day with depression! everyo...  ...            10\n",
            "10313                                                  0  ...             1\n",
            "\n",
            "[10314 rows x 4 columns]\n"
          ]
        }
      ]
    },
    {
      "cell_type": "markdown",
      "metadata": {
        "id": "Ixj31x-tJ84x"
      },
      "source": [
        "## plot number of characters and token"
      ]
    },
    {
      "cell_type": "code",
      "metadata": {
        "colab": {
          "base_uri": "https://localhost:8080/",
          "height": 405
        },
        "id": "cadS4o1chfvt",
        "outputId": "a5b7b86c-9cd0-4923-d0d0-ab99015a349c"
      },
      "source": [
        "fig, (ax1, ax2)  = plt.subplots(nrows=1, ncols=2, figsize=(12,6))\n",
        "sns.histplot(df['char_length'], ax=ax1)\n",
        "sns.histplot(df['token_length'], ax=ax2)\n",
        "ax1.set_title('Number of characters in the text')\n",
        "ax2.set_title('Number of token(words) in the text')\n",
        "plt.show()"
      ],
      "execution_count": 61,
      "outputs": [
        {
          "output_type": "display_data",
          "data": {
            "image/png": "[encoded data removed]",
            "text/plain": [
              "<Figure size 864x432 with 2 Axes>"
            ]
          },
          "metadata": {
            "needs_background": "light"
          }
        }
      ]
    },
    {
      "cell_type": "markdown",
      "metadata": {
        "id": "DbfqRQwSKF_x"
      },
      "source": [
        "## preprocessing "
      ]
    },
    {
      "cell_type": "code",
      "metadata": {
        "colab": {
          "base_uri": "https://localhost:8080/"
        },
        "id": "zvSr1qhmhf0_",
        "outputId": "5a6ad3e3-38e3-4861-f9c7-e255600cd74d"
      },
      "source": [
        "!pip install inflect"
      ],
      "execution_count": 62,
      "outputs": [
        {
          "output_type": "stream",
          "name": "stdout",
          "text": [
            "Requirement already satisfied: inflect in /usr/local/lib/python3.7/dist-packages (2.1.0)\n"
          ]
        }
      ]
    },
    {
      "cell_type": "markdown",
      "metadata": {
        "id": "0qL3WInDKN5B"
      },
      "source": [
        "## convert didn't to didnot expand words"
      ]
    },
    {
      "cell_type": "code",
      "metadata": {
        "colab": {
          "base_uri": "https://localhost:8080/"
        },
        "id": "R96Sv9kLhf6x",
        "outputId": "829c0352-76e5-4399-fbd3-acbe95aeb9cf"
      },
      "source": [
        "!pip install contractions"
      ],
      "execution_count": 63,
      "outputs": [
        {
          "output_type": "stream",
          "name": "stdout",
          "text": [
            "Requirement already satisfied: contractions in /usr/local/lib/python3.7/dist-packages (0.0.52)\n",
            "Requirement already satisfied: textsearch>=0.0.21 in /usr/local/lib/python3.7/dist-packages (from contractions) (0.0.21)\n",
            "Requirement already satisfied: anyascii in /usr/local/lib/python3.7/dist-packages (from textsearch>=0.0.21->contractions) (0.3.0)\n",
            "Requirement already satisfied: pyahocorasick in /usr/local/lib/python3.7/dist-packages (from textsearch>=0.0.21->contractions) (1.4.2)\n"
          ]
        }
      ]
    },
    {
      "cell_type": "markdown",
      "metadata": {
        "id": "X7-6AIvhKUfm"
      },
      "source": [
        "## scraping"
      ]
    },
    {
      "cell_type": "code",
      "metadata": {
        "colab": {
          "base_uri": "https://localhost:8080/"
        },
        "id": "9EuKDWsVhf9V",
        "outputId": "b7275485-c785-42e8-a2f2-07d76e2cc446"
      },
      "source": [
        "!pip install bs4"
      ],
      "execution_count": 64,
      "outputs": [
        {
          "output_type": "stream",
          "name": "stdout",
          "text": [
            "Requirement already satisfied: bs4 in /usr/local/lib/python3.7/dist-packages (0.0.1)\n",
            "Requirement already satisfied: beautifulsoup4 in /usr/local/lib/python3.7/dist-packages (from bs4) (4.6.3)\n"
          ]
        }
      ]
    },
    {
      "cell_type": "markdown",
      "metadata": {
        "id": "CiWSCDxWKWZq"
      },
      "source": [
        "## preprocessing libs"
      ]
    },
    {
      "cell_type": "code",
      "metadata": {
        "colab": {
          "base_uri": "https://localhost:8080/"
        },
        "id": "pHzq5OvFhnX-",
        "outputId": "7887de9f-13d7-4b73-8b0b-708c5337d7ac"
      },
      "source": [
        "\n",
        "from sklearn.preprocessing import LabelEncoder;\n",
        "from sklearn.model_selection import train_test_split;\n",
        "import nltk;\n",
        "import inflect;\n",
        "import contractions;\n",
        "from bs4 import BeautifulSoup;\n",
        "import re, string, unicodedata;\n",
        "from nltk import word_tokenize, sent_tokenize;\n",
        "from nltk.corpus import stopwords;\n",
        "from nltk.stem import LancasterStemmer, WordNetLemmatizer;\n",
        "nltk.download('punkt');\n",
        "nltk.download('stopwords');\n",
        "nltk.download('wordnet');"
      ],
      "execution_count": 65,
      "outputs": [
        {
          "output_type": "stream",
          "name": "stdout",
          "text": [
            "[nltk_data] Downloading package punkt to /root/nltk_data...\n",
            "[nltk_data]   Package punkt is already up-to-date!\n",
            "[nltk_data] Downloading package stopwords to /root/nltk_data...\n",
            "[nltk_data]   Package stopwords is already up-to-date!\n",
            "[nltk_data] Downloading package wordnet to /root/nltk_data...\n",
            "[nltk_data]   Package wordnet is already up-to-date!\n"
          ]
        }
      ]
    },
    {
      "cell_type": "markdown",
      "metadata": {
        "id": "6lYc2vFYKZgG"
      },
      "source": [
        "## preprocessing in process"
      ]
    },
    {
      "cell_type": "code",
      "metadata": {
        "id": "poiaB50bhnZI"
      },
      "source": [
        "\n",
        "\n",
        "def text_preprocessing_platform(df, text_col, remove_stopwords=False):\n",
        "    \n",
        "    ## Define functions for individual steps\n",
        "    # First function is used to denoise text\n",
        "    def denoise_text(text):\n",
        "\n",
        "        # Strip html if any. For ex. removing <html>, <p> tags\n",
        "        soup = BeautifulSoup(text, \"html.parser\");\n",
        "        text = soup.get_text();\n",
        "        # Replace contractions in the text. For ex. didn't -> did not\n",
        "        text = contractions.fix(text);\n",
        "        return text;\n",
        "    \n",
        "    ## Next step is text-normalization\n",
        "    \n",
        "    # Text normalization includes many steps.\n",
        "    \n",
        "    # Each function below serves a step.\n",
        "    \n",
        "    \n",
        "    def remove_non_ascii(words):\n",
        "        \"\"\"Remove non-ASCII characters from list of tokenized words\"\"\"\n",
        "        new_words = [];\n",
        "        for word in words:\n",
        "            new_word = unicodedata.normalize('NFKD', word).encode('ascii', 'ignore').decode('utf-8', 'ignore');\n",
        "            new_words.append(new_word);\n",
        "        return new_words;\n",
        "    \n",
        "    \n",
        "    def to_lowercase(words):\n",
        "        \"\"\"Convert all characters to lowercase from list of tokenized words\"\"\"\n",
        "        new_words = [];\n",
        "        for word in words:\n",
        "            new_word = word.lower();\n",
        "            new_words.append(new_word);\n",
        "        return new_words;\n",
        "    \n",
        "    \n",
        "    def remove_punctuation(words):\n",
        "        \"\"\"Remove punctuation from list of tokenized words\"\"\"\n",
        "        new_words = [];\n",
        "        for word in words:\n",
        "            new_word = re.sub(r'[^\\w\\s]', '', word);\n",
        "            if new_word != '':\n",
        "                new_words.append(new_word);\n",
        "        return new_words;\n",
        "    \n",
        "    \n",
        "    def replace_numbers(words):\n",
        "        \"\"\"Replace all interger occurrences in list of tokenized words with textual representation\"\"\"\n",
        "        p = inflect.engine();\n",
        "        new_words = [];\n",
        "        for word in words:\n",
        "            if word.isdigit():\n",
        "                new_word = p.number_to_words(word);\n",
        "                new_words.append(new_word);\n",
        "            else:\n",
        "                new_words.append(word);\n",
        "        return new_words;\n",
        "    \n",
        "    \n",
        "    def remove_stopwords(words):\n",
        "        \"\"\"Remove stop words from list of tokenized words\"\"\"\n",
        "        new_words = [];\n",
        "        for word in words:\n",
        "            if word not in stopwords.words('english'):\n",
        "                new_words.append(word);\n",
        "        return new_words;\n",
        "    \n",
        "    \n",
        "    def stem_words(words):\n",
        "        \"\"\"Stem words in list of tokenized words\"\"\"\n",
        "        stemmer = LancasterStemmer();\n",
        "        stems = [];\n",
        "        for word in words:\n",
        "            stem = stemmer.stem(word);\n",
        "            stems.append(stem);\n",
        "        return stems;\n",
        "    \n",
        "    \n",
        "    def lemmatize_verbs(words):\n",
        "        \"\"\"Lemmatize verbs in list of tokenized words\"\"\"\n",
        "        lemmatizer = WordNetLemmatizer();\n",
        "        lemmas = [];\n",
        "        for word in words:\n",
        "            lemma = lemmatizer.lemmatize(word, pos='v');\n",
        "            lemmas.append(lemma);\n",
        "        return lemmas;\n",
        "    \n",
        "    \n",
        "    ### A wrap-up function for normalization\n",
        "    def normalize_text(words, remove_stopwords):\n",
        "        words = remove_non_ascii(words);\n",
        "        words = to_lowercase(words);\n",
        "        words = remove_punctuation(words);\n",
        "        words = replace_numbers(words);\n",
        "        if remove_stopwords:\n",
        "            words = remove_stopwords(words);\n",
        "        words = stem_words(words)\n",
        "        # words = lemmatize_verbs(words);\n",
        "        return words;\n",
        "    \n",
        "    # All above functions work on word tokens we need a tokenizer\n",
        "    \n",
        "    # Tokenize tweet into words\n",
        "    def tokenize(text):\n",
        "        return nltk.word_tokenize(text);\n",
        "    \n",
        "    \n",
        "    # A overall wrap-up function\n",
        "    def text_prepare(text):\n",
        "        text = denoise_text(text);\n",
        "        text = ' '.join([x for x in normalize_text(tokenize(text), remove_stopwords)]);\n",
        "        return text;\n",
        "    \n",
        "    # run every-step\n",
        "    df[text_col] = [text_prepare(x) for x in df[text_col]];\n",
        "    print(text_col)\n",
        "    \n",
        "    # return processed df\n",
        "    return df;"
      ],
      "execution_count": 66,
      "outputs": []
    },
    {
      "cell_type": "markdown",
      "metadata": {
        "id": "eWIaqvNYKdVI"
      },
      "source": [
        "## result of preprocessing"
      ]
    },
    {
      "cell_type": "code",
      "metadata": {
        "colab": {
          "base_uri": "https://localhost:8080/",
          "height": 864
        },
        "id": "mOzZDzDthneB",
        "outputId": "f25177f5-1e1a-4889-dd40-766b074bfb67"
      },
      "source": [
        "print(\"Before Text Preprocessing\")\n",
        "display(df.head()[['text']])\n",
        "print(df.shape);\n",
        "print(df.loc[[340]])\n",
        "sns.heatmap(df.isnull(), cmap='viridis')\n",
        "plt.show()\n",
        "processed_df = text_preprocessing_platform(df, 'text', remove_stopwords=False)\n",
        "print(\"After Text Preprocessing\")\n",
        "display(processed_df.head()[['text']])\n",
        "print(processed_df.shape);\n",
        "print(processed_df.loc[[340]]);\n",
        "\n",
        "processed_df.to_csv('After_cleaning.csv');"
      ],
      "execution_count": 67,
      "outputs": [
        {
          "output_type": "stream",
          "name": "stdout",
          "text": [
            "Before Text Preprocessing\n"
          ]
        },
        {
          "output_type": "display_data",
          "data": {
            "text/html": [
              "<div>\n",
              "<style scoped>\n",
              "    .dataframe tbody tr th:only-of-type {\n",
              "        vertical-align: middle;\n",
              "    }\n",
              "\n",
              "    .dataframe tbody tr th {\n",
              "        vertical-align: top;\n",
              "    }\n",
              "\n",
              "    .dataframe thead th {\n",
              "        text-align: right;\n",
              "    }\n",
              "</style>\n",
              "<table border=\"1\" class=\"dataframe\">\n",
              "  <thead>\n",
              "    <tr style=\"text-align: right;\">\n",
              "      <th></th>\n",
              "      <th>text</th>\n",
              "    </tr>\n",
              "  </thead>\n",
              "  <tbody>\n",
              "    <tr>\n",
              "      <th>0</th>\n",
              "      <td>just had a real good moment. i missssssssss hi...</td>\n",
              "    </tr>\n",
              "    <tr>\n",
              "      <th>1</th>\n",
              "      <td>is reading manga  http://plurk.com/p/mzp1e</td>\n",
              "    </tr>\n",
              "    <tr>\n",
              "      <th>2</th>\n",
              "      <td>@comeagainjen http://twitpic.com/2y2lx - http:...</td>\n",
              "    </tr>\n",
              "    <tr>\n",
              "      <th>3</th>\n",
              "      <td>@lapcat Need to send 'em to my accountant tomo...</td>\n",
              "    </tr>\n",
              "    <tr>\n",
              "      <th>4</th>\n",
              "      <td>ADD ME ON MYSPACE!!!  myspace.com/LookThunder</td>\n",
              "    </tr>\n",
              "  </tbody>\n",
              "</table>\n",
              "</div>"
            ],
            "text/plain": [
              "                                                text\n",
              "0  just had a real good moment. i missssssssss hi...\n",
              "1         is reading manga  http://plurk.com/p/mzp1e\n",
              "2  @comeagainjen http://twitpic.com/2y2lx - http:...\n",
              "3  @lapcat Need to send 'em to my accountant tomo...\n",
              "4      ADD ME ON MYSPACE!!!  myspace.com/LookThunder"
            ]
          },
          "metadata": {}
        },
        {
          "output_type": "stream",
          "name": "stdout",
          "text": [
            "(10314, 4)\n",
            "                                                  text  ...  token_length\n",
            "340  Ever since I bought my Macbook, I send much mo...  ...            21\n",
            "\n",
            "[1 rows x 4 columns]\n"
          ]
        },
        {
          "output_type": "display_data",
          "data": {
            "image/png": "[encoded data removed]",
            "text/plain": [
              "<Figure size 432x288 with 2 Axes>"
            ]
          },
          "metadata": {
            "needs_background": "light"
          }
        },
        {
          "output_type": "stream",
          "name": "stdout",
          "text": [
            "text\n",
            "After Text Preprocessing\n"
          ]
        },
        {
          "output_type": "display_data",
          "data": {
            "text/html": [
              "<div>\n",
              "<style scoped>\n",
              "    .dataframe tbody tr th:only-of-type {\n",
              "        vertical-align: middle;\n",
              "    }\n",
              "\n",
              "    .dataframe tbody tr th {\n",
              "        vertical-align: top;\n",
              "    }\n",
              "\n",
              "    .dataframe thead th {\n",
              "        text-align: right;\n",
              "    }\n",
              "</style>\n",
              "<table border=\"1\" class=\"dataframe\">\n",
              "  <thead>\n",
              "    <tr style=\"text-align: right;\">\n",
              "      <th></th>\n",
              "      <th>text</th>\n",
              "    </tr>\n",
              "  </thead>\n",
              "  <tbody>\n",
              "    <tr>\n",
              "      <th>0</th>\n",
              "      <td>real good mom missssssssss much</td>\n",
              "    </tr>\n",
              "    <tr>\n",
              "      <th>1</th>\n",
              "      <td>read mang http plurkcompmzp1e</td>\n",
              "    </tr>\n",
              "    <tr>\n",
              "      <th>2</th>\n",
              "      <td>comeagaind http twitpiccom2y2lx http wwwyoutub...</td>\n",
              "    </tr>\n",
              "    <tr>\n",
              "      <th>3</th>\n",
              "      <td>lapc nee send account tomorrow od ev refer tax...</td>\n",
              "    </tr>\n",
              "    <tr>\n",
              "      <th>4</th>\n",
              "      <td>ad myspac myspacecomlookthund</td>\n",
              "    </tr>\n",
              "  </tbody>\n",
              "</table>\n",
              "</div>"
            ],
            "text/plain": [
              "                                                text\n",
              "0                    real good mom missssssssss much\n",
              "1                      read mang http plurkcompmzp1e\n",
              "2  comeagaind http twitpiccom2y2lx http wwwyoutub...\n",
              "3  lapc nee send account tomorrow od ev refer tax...\n",
              "4                      ad myspac myspacecomlookthund"
            ]
          },
          "metadata": {}
        },
        {
          "output_type": "stream",
          "name": "stdout",
          "text": [
            "(10314, 4)\n",
            "                                                  text  ...  token_length\n",
            "340  ev sint bought macbook send much email fuck ea...  ...            21\n",
            "\n",
            "[1 rows x 4 columns]\n"
          ]
        }
      ]
    },
    {
      "cell_type": "markdown",
      "metadata": {
        "id": "9nv4UJ8FKg7Z"
      },
      "source": [
        "## glove download"
      ]
    },
    {
      "cell_type": "code",
      "metadata": {
        "id": "zGQcTYKChngK",
        "colab": {
          "base_uri": "https://localhost:8080/"
        },
        "outputId": "e18b94ab-1a5e-4142-fd14-14885876dda7"
      },
      "source": [
        "!wget http://nlp.stanford.edu/data/glove.6B.zip\n",
        "!unzip glove*.zip"
      ],
      "execution_count": 68,
      "outputs": [
        {
          "output_type": "stream",
          "name": "stdout",
          "text": [
            "--2021-09-23 06:15:13--  http://nlp.stanford.edu/data/glove.6B.zip\n",
            "Resolving nlp.stanford.edu (nlp.stanford.edu)... 171.64.67.140\n",
            "Connecting to nlp.stanford.edu (nlp.stanford.edu)|171.64.67.140|:80... connected.\n",
            "HTTP request sent, awaiting response... 302 Found\n",
            "Location: https://nlp.stanford.edu/data/glove.6B.zip [following]\n",
            "--2021-09-23 06:15:13--  https://nlp.stanford.edu/data/glove.6B.zip\n",
            "Connecting to nlp.stanford.edu (nlp.stanford.edu)|171.64.67.140|:443... connected.\n",
            "HTTP request sent, awaiting response... 301 Moved Permanently\n",
            "Location: http://downloads.cs.stanford.edu/nlp/data/glove.6B.zip [following]\n",
            "--2021-09-23 06:15:16--  http://downloads.cs.stanford.edu/nlp/data/glove.6B.zip\n",
            "Resolving downloads.cs.stanford.edu (downloads.cs.stanford.edu)... 171.64.64.22\n",
            "Connecting to downloads.cs.stanford.edu (downloads.cs.stanford.edu)|171.64.64.22|:80... connected.\n",
            "HTTP request sent, awaiting response... 200 OK\n",
            "Length: 862182613 (822M) [application/zip]\n",
            "Saving to: ‘glove.6B.zip.1’\n",
            "\n",
            "glove.6B.zip.1      100%[===================>] 822.24M  4.94MB/s    in 2m 41s  \n",
            "\n",
            "2021-09-23 06:17:57 (5.10 MB/s) - ‘glove.6B.zip.1’ saved [862182613/862182613]\n",
            "\n",
            "Archive:  glove.6B.zip\n",
            "replace glove.6B.50d.txt? [y]es, [n]o, [A]ll, [N]one, [r]ename: Y\n",
            "  inflating: glove.6B.50d.txt        \n",
            "replace glove.6B.100d.txt? [y]es, [n]o, [A]ll, [N]one, [r]ename: n\n",
            "replace glove.6B.200d.txt? [y]es, [n]o, [A]ll, [N]one, [r]ename: n\n",
            "replace glove.6B.300d.txt? [y]es, [n]o, [A]ll, [N]one, [r]ename: n\n"
          ]
        }
      ]
    },
    {
      "cell_type": "code",
      "metadata": {
        "id": "VaAH0ra4hniY"
      },
      "source": [
        "f = open(\"glove.6B.50d.txt\");"
      ],
      "execution_count": 69,
      "outputs": []
    },
    {
      "cell_type": "markdown",
      "metadata": {
        "id": "L3xmPtY_Kka4"
      },
      "source": [
        "## nn libs\n"
      ]
    },
    {
      "cell_type": "code",
      "metadata": {
        "id": "J_ovrLHKhnkn"
      },
      "source": [
        "from keras.layers import Dropout, Dense, GRU, Embedding, LSTM, Bidirectional, TimeDistributed, Flatten;\n",
        "from keras.models import Sequential;\n",
        "from sklearn.feature_extraction.text import TfidfVectorizer;\n",
        "from sklearn.metrics import matthews_corrcoef, confusion_matrix;\n",
        "from sklearn import metrics;\n",
        "from sklearn.utils import shuffle;\n",
        "from keras.preprocessing.text import Tokenizer;\n",
        "from keras.preprocessing.sequence import pad_sequences;\n",
        "from sklearn.preprocessing import LabelEncoder;\n",
        "\n",
        "# Logging\n",
        "import logging;\n",
        "logging.basicConfig(level=logging.INFO);\n",
        "\n",
        "import warnings\n",
        "\n"
      ],
      "execution_count": 70,
      "outputs": []
    },
    {
      "cell_type": "markdown",
      "metadata": {
        "id": "1tcxK8r6KqEw"
      },
      "source": [
        "## tokenization according to gloves ( embedding vecs)"
      ]
    },
    {
      "cell_type": "code",
      "metadata": {
        "id": "QwX_PSO4hnnO"
      },
      "source": [
        "def loadData_Tokenizer(X_train, X_test,MAX_NB_WORDS=75000,MAX_SEQUENCE_LENGTH=500):\n",
        "    # np.random.seed(7)\n",
        "    text = np.concatenate((X_train, X_test),axis = 0)\n",
        "    text = np.array(text)\n",
        "    tokenizer = Tokenizer(num_words=MAX_NB_WORDS)\n",
        "    tokenizer.fit_on_texts(text)\n",
        "    sequences = tokenizer.texts_to_sequences(text)\n",
        "    word_index = tokenizer.word_index\n",
        "    text = pad_sequences(sequences, maxlen=MAX_SEQUENCE_LENGTH)\n",
        "    print('Found %s unique tokens.' % len(word_index))\n",
        "    indices = np.arange(text.shape[0])\n",
        "    # np.random.shuffle(indices)\n",
        "    text = text[indices]\n",
        "    print(text.shape)\n",
        "    X_train = text[0:len(X_train), ]\n",
        "    X_test = text[len(X_train):, ]\n",
        "    embeddings_index = {}\n",
        "    f = open(\"glove.6B.50d.txt\", encoding='ISO-8859-1')\n",
        "    for line in f:\n",
        "        try:\n",
        "            values = line.split()\n",
        "            word = values[0]\n",
        "            try:\n",
        "                coefs = np.asarray(values[1:], dtype='float32')\n",
        "            except:\n",
        "                pass\n",
        "            embeddings_index[word] = coefs\n",
        "        except UnicodeDecodeError:\n",
        "            pass\n",
        "    f.close()\n",
        "    print('Total %s word vectors.' % len(embeddings_index))\n",
        "    return (X_train, X_test, word_index,embeddings_index, tokenizer)"
      ],
      "execution_count": 71,
      "outputs": []
    },
    {
      "cell_type": "markdown",
      "metadata": {
        "id": "v6Al4xC3K15H"
      },
      "source": [
        "## model "
      ]
    },
    {
      "cell_type": "code",
      "metadata": {
        "id": "hWpXKzMnhnpi"
      },
      "source": [
        "def Build_Model_RNN_Text(word_index, embeddings_index, nclasses,  MAX_SEQUENCE_LENGTH=500, EMBEDDING_DIM=50, dropout=0.5):\n",
        "    # Model building\n",
        "    model = Sequential()\n",
        "    hidden_layer = 3\n",
        "    lstm_node = 32\n",
        "    embedding_matrix = np.random.random((len(word_index) + 1, EMBEDDING_DIM))\n",
        "    for word, i in word_index.items():\n",
        "        embedding_vector = embeddings_index.get(word)\n",
        "        if embedding_vector is not None:\n",
        "            # words not found in embedding index will be all-zeros.\n",
        "            if len(embedding_matrix[i]) != len(embedding_vector):\n",
        "                print(\"could not broadcast input array from shape\", str(len(embedding_matrix[i])),\n",
        "                      \"into shape\", str(len(embedding_vector)), \" Please make sure your\"\n",
        "                                                                \" EMBEDDING_DIM is equal to embedding_vector file ,GloVe,\")\n",
        "                exit(1)\n",
        "            embedding_matrix[i] = embedding_vector\n",
        "    model.add(Embedding(len(word_index) + 1,\n",
        "                                EMBEDDING_DIM,\n",
        "                                weights=[embedding_matrix],\n",
        "                                input_length=MAX_SEQUENCE_LENGTH,\n",
        "                                trainable=True))\n",
        "    print(lstm_node)\n",
        "    for i in range(0,hidden_layer):\n",
        "        model.add(Bidirectional(LSTM(lstm_node,return_sequences=True, recurrent_dropout=0.5)))\n",
        "        model.add(Dropout(dropout))\n",
        "    model.add(Bidirectional(LSTM(lstm_node, recurrent_dropout=0.5)))\n",
        "    model.add(Dropout(dropout))\n",
        "    #model.add(TimeDistributed(Dense(256)))\n",
        "    #model.add(Flatten())\n",
        "    model.add(Dense(256, activation='relu'))\n",
        "    model.add(Dense(nclasses, activation='softmax'))\n",
        "    model.compile(loss='sparse_categorical_crossentropy',\n",
        "                      optimizer='adam',\n",
        "                      metrics=['accuracy'])\n",
        "    return model"
      ],
      "execution_count": 72,
      "outputs": []
    },
    {
      "cell_type": "markdown",
      "metadata": {
        "id": "oQBdm5vBK4qC"
      },
      "source": [
        "## dataset"
      ]
    },
    {
      "cell_type": "code",
      "metadata": {
        "colab": {
          "base_uri": "https://localhost:8080/",
          "height": 158
        },
        "id": "7RQXAo6GWzm3",
        "outputId": "aa49622a-f1d7-46f5-bed3-96d9b5758edc"
      },
      "source": [
        "train_final = processed_df[['text', 'polarity']]\n",
        "print(\"Train DataFrame\")\n",
        "display(train_final.head(3))"
      ],
      "execution_count": 73,
      "outputs": [
        {
          "output_type": "stream",
          "name": "stdout",
          "text": [
            "Train DataFrame\n"
          ]
        },
        {
          "output_type": "display_data",
          "data": {
            "text/html": [
              "<div>\n",
              "<style scoped>\n",
              "    .dataframe tbody tr th:only-of-type {\n",
              "        vertical-align: middle;\n",
              "    }\n",
              "\n",
              "    .dataframe tbody tr th {\n",
              "        vertical-align: top;\n",
              "    }\n",
              "\n",
              "    .dataframe thead th {\n",
              "        text-align: right;\n",
              "    }\n",
              "</style>\n",
              "<table border=\"1\" class=\"dataframe\">\n",
              "  <thead>\n",
              "    <tr style=\"text-align: right;\">\n",
              "      <th></th>\n",
              "      <th>text</th>\n",
              "      <th>polarity</th>\n",
              "    </tr>\n",
              "  </thead>\n",
              "  <tbody>\n",
              "    <tr>\n",
              "      <th>0</th>\n",
              "      <td>real good mom missssssssss much</td>\n",
              "      <td>0</td>\n",
              "    </tr>\n",
              "    <tr>\n",
              "      <th>1</th>\n",
              "      <td>read mang http plurkcompmzp1e</td>\n",
              "      <td>0</td>\n",
              "    </tr>\n",
              "    <tr>\n",
              "      <th>2</th>\n",
              "      <td>comeagaind http twitpiccom2y2lx http wwwyoutub...</td>\n",
              "      <td>0</td>\n",
              "    </tr>\n",
              "  </tbody>\n",
              "</table>\n",
              "</div>"
            ],
            "text/plain": [
              "                                                text  polarity\n",
              "0                    real good mom missssssssss much         0\n",
              "1                      read mang http plurkcompmzp1e         0\n",
              "2  comeagaind http twitpiccom2y2lx http wwwyoutub...         0"
            ]
          },
          "metadata": {}
        }
      ]
    },
    {
      "cell_type": "markdown",
      "metadata": {
        "id": "ST6W3ddhK7P3"
      },
      "source": [
        "##  label sentimenet (already done no need)"
      ]
    },
    {
      "cell_type": "code",
      "metadata": {
        "colab": {
          "base_uri": "https://localhost:8080/"
        },
        "id": "yIkNKCfOWzsY",
        "outputId": "77b7154b-7181-4e3a-f1c9-b5e63eddfd27"
      },
      "source": [
        "\n",
        "# Label encoding target column\n",
        "le = LabelEncoder()\n",
        "train_final['polarity'] = le.fit_transform(train_final['polarity'])\n",
        "\n",
        "## df for training and prediction\n",
        "df = train_final\n",
        "\n",
        "print(df['polarity'])\n",
        "\n"
      ],
      "execution_count": 74,
      "outputs": [
        {
          "output_type": "stream",
          "name": "stdout",
          "text": [
            "0        0\n",
            "1        0\n",
            "2        0\n",
            "3        0\n",
            "4        0\n",
            "        ..\n",
            "10309    1\n",
            "10310    1\n",
            "10311    1\n",
            "10312    1\n",
            "10313    1\n",
            "Name: polarity, Length: 10314, dtype: int64\n"
          ]
        },
        {
          "output_type": "stream",
          "name": "stderr",
          "text": [
            "/usr/local/lib/python3.7/dist-packages/ipykernel_launcher.py:4: SettingWithCopyWarning: \n",
            "A value is trying to be set on a copy of a slice from a DataFrame.\n",
            "Try using .loc[row_indexer,col_indexer] = value instead\n",
            "\n",
            "See the caveats in the documentation: https://pandas.pydata.org/pandas-docs/stable/user_guide/indexing.html#returning-a-view-versus-a-copy\n",
            "  after removing the cwd from sys.path.\n"
          ]
        }
      ]
    },
    {
      "cell_type": "markdown",
      "metadata": {
        "id": "qzxdm1RALAOR"
      },
      "source": [
        "## vars"
      ]
    },
    {
      "cell_type": "code",
      "metadata": {
        "id": "90UFMqvrWzvL"
      },
      "source": [
        "preprocess = True\n",
        "text = 'text'\n",
        "target = 'polarity'\n",
        "MAX_SEQUENCE_LENGTH = 60"
      ],
      "execution_count": 75,
      "outputs": []
    },
    {
      "cell_type": "markdown",
      "metadata": {
        "id": "d-7vIQzqLCC_"
      },
      "source": [
        "## x and y"
      ]
    },
    {
      "cell_type": "code",
      "metadata": {
        "id": "uRuXKeqcWz0I"
      },
      "source": [
        "X = df[text]\n",
        "y = df[target]"
      ],
      "execution_count": 76,
      "outputs": []
    },
    {
      "cell_type": "markdown",
      "metadata": {
        "id": "-QGH5i_XLEp7"
      },
      "source": [
        ""
      ]
    },
    {
      "cell_type": "markdown",
      "metadata": {
        "id": "tVI7ASpmLErw"
      },
      "source": [
        "## split"
      ]
    },
    {
      "cell_type": "code",
      "metadata": {
        "id": "t1CNTv2PWz2c"
      },
      "source": [
        "X_train, X_test, y_train, y_test = train_test_split(X, y, test_size = 0.3)"
      ],
      "execution_count": 77,
      "outputs": []
    },
    {
      "cell_type": "markdown",
      "metadata": {
        "id": "g63qy9s8LHKW"
      },
      "source": [
        "## glove vecs\n"
      ]
    },
    {
      "cell_type": "code",
      "metadata": {
        "colab": {
          "base_uri": "https://localhost:8080/"
        },
        "id": "zNKNAGUeXEAE",
        "outputId": "810fb918-00ae-4b6c-ecc9-531277cd02ad"
      },
      "source": [
        "print(\"Generating Glove Embeddings...\")\n",
        "X_train_Glove,X_test_Glove, word_index,embeddings_index, tokenizer = loadData_Tokenizer(X_train,X_test, MAX_SEQUENCE_LENGTH=MAX_SEQUENCE_LENGTH)"
      ],
      "execution_count": 78,
      "outputs": [
        {
          "output_type": "stream",
          "name": "stdout",
          "text": [
            "Generating Glove Embeddings...\n",
            "Found 17933 unique tokens.\n",
            "(10314, 60)\n",
            "Total 399955 word vectors.\n"
          ]
        }
      ]
    },
    {
      "cell_type": "markdown",
      "metadata": {
        "id": "lG8TYUaTLThp"
      },
      "source": [
        "## training"
      ]
    },
    {
      "cell_type": "code",
      "metadata": {
        "colab": {
          "base_uri": "https://localhost:8080/"
        },
        "id": "93_c_zisXECr",
        "outputId": "691f0ca7-1b1d-44f5-f31c-1f862af53ce3"
      },
      "source": [
        "# Model Training\n",
        "with warnings.catch_warnings():\n",
        "    print(\"Building Model ...\")\n",
        "    model_RNN = Build_Model_RNN_Text(word_index,embeddings_index, 2)\n",
        "    model_RNN.summary()\n",
        "    print(\"\\n Starting Training ... \\n\")\n",
        "    history = model_RNN.fit(X_train_Glove, y_train,\n",
        "                              validation_data=(X_test_Glove, y_test),\n",
        "                              epochs=10,\n",
        "                              batch_size=256,\n",
        "                              verbose=2)\n",
        "    warnings.simplefilter(\"ignore\")"
      ],
      "execution_count": 79,
      "outputs": [
        {
          "output_type": "stream",
          "name": "stdout",
          "text": [
            "Building Model ...\n",
            "32\n",
            "WARNING:tensorflow:Layer lstm_24 will not use cuDNN kernels since it doesn't meet the criteria. It will use a generic GPU kernel as fallback when running on GPU.\n"
          ]
        },
        {
          "output_type": "stream",
          "name": "stderr",
          "text": [
            "WARNING:tensorflow:Layer lstm_24 will not use cuDNN kernels since it doesn't meet the criteria. It will use a generic GPU kernel as fallback when running on GPU.\n"
          ]
        },
        {
          "output_type": "stream",
          "name": "stdout",
          "text": [
            "WARNING:tensorflow:Layer lstm_24 will not use cuDNN kernels since it doesn't meet the criteria. It will use a generic GPU kernel as fallback when running on GPU.\n"
          ]
        },
        {
          "output_type": "stream",
          "name": "stderr",
          "text": [
            "WARNING:tensorflow:Layer lstm_24 will not use cuDNN kernels since it doesn't meet the criteria. It will use a generic GPU kernel as fallback when running on GPU.\n"
          ]
        },
        {
          "output_type": "stream",
          "name": "stdout",
          "text": [
            "WARNING:tensorflow:Layer lstm_24 will not use cuDNN kernels since it doesn't meet the criteria. It will use a generic GPU kernel as fallback when running on GPU.\n"
          ]
        },
        {
          "output_type": "stream",
          "name": "stderr",
          "text": [
            "WARNING:tensorflow:Layer lstm_24 will not use cuDNN kernels since it doesn't meet the criteria. It will use a generic GPU kernel as fallback when running on GPU.\n"
          ]
        },
        {
          "output_type": "stream",
          "name": "stdout",
          "text": [
            "WARNING:tensorflow:Layer lstm_25 will not use cuDNN kernels since it doesn't meet the criteria. It will use a generic GPU kernel as fallback when running on GPU.\n"
          ]
        },
        {
          "output_type": "stream",
          "name": "stderr",
          "text": [
            "WARNING:tensorflow:Layer lstm_25 will not use cuDNN kernels since it doesn't meet the criteria. It will use a generic GPU kernel as fallback when running on GPU.\n"
          ]
        },
        {
          "output_type": "stream",
          "name": "stdout",
          "text": [
            "WARNING:tensorflow:Layer lstm_25 will not use cuDNN kernels since it doesn't meet the criteria. It will use a generic GPU kernel as fallback when running on GPU.\n"
          ]
        },
        {
          "output_type": "stream",
          "name": "stderr",
          "text": [
            "WARNING:tensorflow:Layer lstm_25 will not use cuDNN kernels since it doesn't meet the criteria. It will use a generic GPU kernel as fallback when running on GPU.\n"
          ]
        },
        {
          "output_type": "stream",
          "name": "stdout",
          "text": [
            "WARNING:tensorflow:Layer lstm_25 will not use cuDNN kernels since it doesn't meet the criteria. It will use a generic GPU kernel as fallback when running on GPU.\n"
          ]
        },
        {
          "output_type": "stream",
          "name": "stderr",
          "text": [
            "WARNING:tensorflow:Layer lstm_25 will not use cuDNN kernels since it doesn't meet the criteria. It will use a generic GPU kernel as fallback when running on GPU.\n"
          ]
        },
        {
          "output_type": "stream",
          "name": "stdout",
          "text": [
            "WARNING:tensorflow:Layer lstm_26 will not use cuDNN kernels since it doesn't meet the criteria. It will use a generic GPU kernel as fallback when running on GPU.\n"
          ]
        },
        {
          "output_type": "stream",
          "name": "stderr",
          "text": [
            "WARNING:tensorflow:Layer lstm_26 will not use cuDNN kernels since it doesn't meet the criteria. It will use a generic GPU kernel as fallback when running on GPU.\n"
          ]
        },
        {
          "output_type": "stream",
          "name": "stdout",
          "text": [
            "WARNING:tensorflow:Layer lstm_26 will not use cuDNN kernels since it doesn't meet the criteria. It will use a generic GPU kernel as fallback when running on GPU.\n"
          ]
        },
        {
          "output_type": "stream",
          "name": "stderr",
          "text": [
            "WARNING:tensorflow:Layer lstm_26 will not use cuDNN kernels since it doesn't meet the criteria. It will use a generic GPU kernel as fallback when running on GPU.\n"
          ]
        },
        {
          "output_type": "stream",
          "name": "stdout",
          "text": [
            "WARNING:tensorflow:Layer lstm_26 will not use cuDNN kernels since it doesn't meet the criteria. It will use a generic GPU kernel as fallback when running on GPU.\n"
          ]
        },
        {
          "output_type": "stream",
          "name": "stderr",
          "text": [
            "WARNING:tensorflow:Layer lstm_26 will not use cuDNN kernels since it doesn't meet the criteria. It will use a generic GPU kernel as fallback when running on GPU.\n"
          ]
        },
        {
          "output_type": "stream",
          "name": "stdout",
          "text": [
            "WARNING:tensorflow:Layer lstm_27 will not use cuDNN kernels since it doesn't meet the criteria. It will use a generic GPU kernel as fallback when running on GPU.\n"
          ]
        },
        {
          "output_type": "stream",
          "name": "stderr",
          "text": [
            "WARNING:tensorflow:Layer lstm_27 will not use cuDNN kernels since it doesn't meet the criteria. It will use a generic GPU kernel as fallback when running on GPU.\n"
          ]
        },
        {
          "output_type": "stream",
          "name": "stdout",
          "text": [
            "WARNING:tensorflow:Layer lstm_27 will not use cuDNN kernels since it doesn't meet the criteria. It will use a generic GPU kernel as fallback when running on GPU.\n"
          ]
        },
        {
          "output_type": "stream",
          "name": "stderr",
          "text": [
            "WARNING:tensorflow:Layer lstm_27 will not use cuDNN kernels since it doesn't meet the criteria. It will use a generic GPU kernel as fallback when running on GPU.\n"
          ]
        },
        {
          "output_type": "stream",
          "name": "stdout",
          "text": [
            "WARNING:tensorflow:Layer lstm_27 will not use cuDNN kernels since it doesn't meet the criteria. It will use a generic GPU kernel as fallback when running on GPU.\n"
          ]
        },
        {
          "output_type": "stream",
          "name": "stderr",
          "text": [
            "WARNING:tensorflow:Layer lstm_27 will not use cuDNN kernels since it doesn't meet the criteria. It will use a generic GPU kernel as fallback when running on GPU.\n"
          ]
        },
        {
          "output_type": "stream",
          "name": "stdout",
          "text": [
            "Model: \"sequential_6\"\n",
            "_________________________________________________________________\n",
            "Layer (type)                 Output Shape              Param #   \n",
            "=================================================================\n",
            "embedding_6 (Embedding)      (None, 500, 50)           896700    \n",
            "_________________________________________________________________\n",
            "bidirectional_24 (Bidirectio (None, 500, 64)           21248     \n",
            "_________________________________________________________________\n",
            "dropout_24 (Dropout)         (None, 500, 64)           0         \n",
            "_________________________________________________________________\n",
            "bidirectional_25 (Bidirectio (None, 500, 64)           24832     \n",
            "_________________________________________________________________\n",
            "dropout_25 (Dropout)         (None, 500, 64)           0         \n",
            "_________________________________________________________________\n",
            "bidirectional_26 (Bidirectio (None, 500, 64)           24832     \n",
            "_________________________________________________________________\n",
            "dropout_26 (Dropout)         (None, 500, 64)           0         \n",
            "_________________________________________________________________\n",
            "bidirectional_27 (Bidirectio (None, 64)                24832     \n",
            "_________________________________________________________________\n",
            "dropout_27 (Dropout)         (None, 64)                0         \n",
            "_________________________________________________________________\n",
            "dense_12 (Dense)             (None, 256)               16640     \n",
            "_________________________________________________________________\n",
            "dense_13 (Dense)             (None, 2)                 514       \n",
            "=================================================================\n",
            "Total params: 1,009,598\n",
            "Trainable params: 1,009,598\n",
            "Non-trainable params: 0\n",
            "_________________________________________________________________\n",
            "\n",
            " Starting Training ... \n",
            "\n",
            "Epoch 1/10\n",
            "WARNING:tensorflow:Model was constructed with shape (None, 500) for input KerasTensor(type_spec=TensorSpec(shape=(None, 500), dtype=tf.float32, name='embedding_6_input'), name='embedding_6_input', description=\"created by layer 'embedding_6_input'\"), but it was called on an input with incompatible shape (None, 60).\n"
          ]
        },
        {
          "output_type": "stream",
          "name": "stderr",
          "text": [
            "WARNING:tensorflow:Model was constructed with shape (None, 500) for input KerasTensor(type_spec=TensorSpec(shape=(None, 500), dtype=tf.float32, name='embedding_6_input'), name='embedding_6_input', description=\"created by layer 'embedding_6_input'\"), but it was called on an input with incompatible shape (None, 60).\n"
          ]
        },
        {
          "output_type": "stream",
          "name": "stdout",
          "text": [
            "WARNING:tensorflow:Model was constructed with shape (None, 500) for input KerasTensor(type_spec=TensorSpec(shape=(None, 500), dtype=tf.float32, name='embedding_6_input'), name='embedding_6_input', description=\"created by layer 'embedding_6_input'\"), but it was called on an input with incompatible shape (None, 60).\n"
          ]
        },
        {
          "output_type": "stream",
          "name": "stderr",
          "text": [
            "WARNING:tensorflow:Model was constructed with shape (None, 500) for input KerasTensor(type_spec=TensorSpec(shape=(None, 500), dtype=tf.float32, name='embedding_6_input'), name='embedding_6_input', description=\"created by layer 'embedding_6_input'\"), but it was called on an input with incompatible shape (None, 60).\n"
          ]
        },
        {
          "output_type": "stream",
          "name": "stdout",
          "text": [
            "WARNING:tensorflow:Model was constructed with shape (None, 500) for input KerasTensor(type_spec=TensorSpec(shape=(None, 500), dtype=tf.float32, name='embedding_6_input'), name='embedding_6_input', description=\"created by layer 'embedding_6_input'\"), but it was called on an input with incompatible shape (None, 60).\n"
          ]
        },
        {
          "output_type": "stream",
          "name": "stderr",
          "text": [
            "WARNING:tensorflow:Model was constructed with shape (None, 500) for input KerasTensor(type_spec=TensorSpec(shape=(None, 500), dtype=tf.float32, name='embedding_6_input'), name='embedding_6_input', description=\"created by layer 'embedding_6_input'\"), but it was called on an input with incompatible shape (None, 60).\n"
          ]
        },
        {
          "output_type": "stream",
          "name": "stdout",
          "text": [
            "29/29 - 84s - loss: 0.5071 - accuracy: 0.7803 - val_loss: 0.3413 - val_accuracy: 0.8662\n",
            "Epoch 2/10\n",
            "29/29 - 63s - loss: 0.1932 - accuracy: 0.9331 - val_loss: 0.0957 - val_accuracy: 0.9683\n",
            "Epoch 3/10\n",
            "29/29 - 63s - loss: 0.0689 - accuracy: 0.9821 - val_loss: 0.0593 - val_accuracy: 0.9851\n",
            "Epoch 4/10\n",
            "29/29 - 63s - loss: 0.0457 - accuracy: 0.9893 - val_loss: 0.0504 - val_accuracy: 0.9877\n",
            "Epoch 5/10\n",
            "29/29 - 63s - loss: 0.0404 - accuracy: 0.9904 - val_loss: 0.0467 - val_accuracy: 0.9906\n",
            "Epoch 6/10\n",
            "29/29 - 63s - loss: 0.0341 - accuracy: 0.9925 - val_loss: 0.0571 - val_accuracy: 0.9874\n",
            "Epoch 7/10\n",
            "29/29 - 63s - loss: 0.0303 - accuracy: 0.9925 - val_loss: 0.0514 - val_accuracy: 0.9906\n",
            "Epoch 8/10\n",
            "29/29 - 64s - loss: 0.0255 - accuracy: 0.9942 - val_loss: 0.0513 - val_accuracy: 0.9877\n",
            "Epoch 9/10\n",
            "29/29 - 64s - loss: 0.0191 - accuracy: 0.9965 - val_loss: 0.0642 - val_accuracy: 0.9855\n",
            "Epoch 10/10\n",
            "29/29 - 64s - loss: 0.0189 - accuracy: 0.9958 - val_loss: 0.0520 - val_accuracy: 0.9906\n"
          ]
        }
      ]
    },
    {
      "cell_type": "markdown",
      "metadata": {
        "id": "rdGiiBBsLVN6"
      },
      "source": [
        "## graph plot"
      ]
    },
    {
      "cell_type": "code",
      "metadata": {
        "id": "5Tlr-xhZXEE5"
      },
      "source": [
        "def plot_graphs(history, string):\n",
        "  plt.plot(history.history[string])\n",
        "  plt.plot(history.history['val_'+string], '')\n",
        "  plt.xlabel(\"Epochs\")\n",
        "  plt.ylabel(string)\n",
        "  plt.legend([string, 'val_'+string])\n",
        "  plt.show()\n"
      ],
      "execution_count": 80,
      "outputs": []
    },
    {
      "cell_type": "code",
      "metadata": {
        "colab": {
          "base_uri": "https://localhost:8080/",
          "height": 591
        },
        "id": "MxOfChEcXEHK",
        "outputId": "cde03ed9-5975-408e-e9ec-b8ab633e28ec"
      },
      "source": [
        "print(\"\\n Plotting results ... \\n\")\n",
        "plot_graphs(history, 'accuracy')\n",
        "plot_graphs(history, 'loss')"
      ],
      "execution_count": 81,
      "outputs": [
        {
          "output_type": "stream",
          "name": "stdout",
          "text": [
            "\n",
            " Plotting results ... \n",
            "\n"
          ]
        },
        {
          "output_type": "display_data",
          "data": {
            "image/png": "[encoded data removed]",
            "text/plain": [
              "<Figure size 432x288 with 1 Axes>"
            ]
          },
          "metadata": {
            "needs_background": "light"
          }
        },
        {
          "output_type": "display_data",
          "data": {
            "image/png": "[encoded data removed]",
            "text/plain": [
              "<Figure size 432x288 with 1 Axes>"
            ]
          },
          "metadata": {
            "needs_background": "light"
          }
        }
      ]
    },
    {
      "cell_type": "markdown",
      "metadata": {
        "id": "TdpRoBOLLYtR"
      },
      "source": [
        "## predictions and acc"
      ]
    },
    {
      "cell_type": "code",
      "metadata": {
        "colab": {
          "base_uri": "https://localhost:8080/"
        },
        "id": "3-0m0vP6XEJi",
        "outputId": "a2399e50-0150-4ba7-bbbf-8821ad575338"
      },
      "source": [
        "predict_x=model_RNN.predict(X_test_Glove); \n",
        "classes_x=np.argmax(predict_x,axis=1)"
      ],
      "execution_count": 82,
      "outputs": [
        {
          "output_type": "stream",
          "name": "stdout",
          "text": [
            "WARNING:tensorflow:Model was constructed with shape (None, 500) for input KerasTensor(type_spec=TensorSpec(shape=(None, 500), dtype=tf.float32, name='embedding_6_input'), name='embedding_6_input', description=\"created by layer 'embedding_6_input'\"), but it was called on an input with incompatible shape (None, 60).\n"
          ]
        },
        {
          "output_type": "stream",
          "name": "stderr",
          "text": [
            "WARNING:tensorflow:Model was constructed with shape (None, 500) for input KerasTensor(type_spec=TensorSpec(shape=(None, 500), dtype=tf.float32, name='embedding_6_input'), name='embedding_6_input', description=\"created by layer 'embedding_6_input'\"), but it was called on an input with incompatible shape (None, 60).\n"
          ]
        }
      ]
    },
    {
      "cell_type": "code",
      "metadata": {
        "colab": {
          "base_uri": "https://localhost:8080/"
        },
        "id": "B5nzxHdvWz5W",
        "outputId": "19b06100-12ac-4cec-afe4-dda75c5219bd"
      },
      "source": [
        "print(metrics.classification_report(y_test, classes_x));"
      ],
      "execution_count": 83,
      "outputs": [
        {
          "output_type": "stream",
          "name": "stdout",
          "text": [
            "              precision    recall  f1-score   support\n",
            "\n",
            "           0       0.99      1.00      0.99      2372\n",
            "           1       0.99      0.97      0.98       723\n",
            "\n",
            "    accuracy                           0.99      3095\n",
            "   macro avg       0.99      0.98      0.99      3095\n",
            "weighted avg       0.99      0.99      0.99      3095\n",
            "\n"
          ]
        }
      ]
    },
    {
      "cell_type": "markdown",
      "metadata": {
        "id": "p6ISVPwDLbn4"
      },
      "source": [
        "## confusin matrix"
      ]
    },
    {
      "cell_type": "code",
      "metadata": {
        "colab": {
          "base_uri": "https://localhost:8080/"
        },
        "id": "NPDEp1tXXaeV",
        "outputId": "bcfc3fe9-611f-4893-ccf8-9fd18da249ba"
      },
      "source": [
        "print(\"Confusion Matrix for Decision Tree:\")\n",
        "print(confusion_matrix(y_test,classes_x))\n",
        "cnf_matrix = confusion_matrix(y_test,classes_x);\n",
        "labels = ['0','1'];\n",
        "cm1 = pd.DataFrame(cnf_matrix, index = labels, columns = labels)"
      ],
      "execution_count": 84,
      "outputs": [
        {
          "output_type": "stream",
          "name": "stdout",
          "text": [
            "Confusion Matrix for Decision Tree:\n",
            "[[2362   10]\n",
            " [  19  704]]\n"
          ]
        }
      ]
    },
    {
      "cell_type": "code",
      "metadata": {
        "colab": {
          "base_uri": "https://localhost:8080/",
          "height": 497
        },
        "id": "9nPtzOGVXakF",
        "outputId": "c80fcc18-0df3-4e38-bdf0-bf12867508e0"
      },
      "source": [
        "plt.figure(figsize = (10, 8))\n",
        "sns.heatmap(cm1, annot = True, cbar = False, fmt = 'g')\n",
        "plt.ylabel('Actual values')\n",
        "plt.xlabel('Predicted values')\n",
        "plt.show()"
      ],
      "execution_count": 88,
      "outputs": [
        {
          "output_type": "display_data",
          "data": {
            "image/png": "[encoded data removed]",
            "text/plain": [
              "<Figure size 720x576 with 1 Axes>"
            ]
          },
          "metadata": {
            "needs_background": "light"
          }
        }
      ]
    },
    {
      "cell_type": "markdown",
      "metadata": {
        "id": "yOspspfkYUPJ"
      },
      "source": [
        "## heading baki"
      ]
    },
    {
      "cell_type": "code",
      "metadata": {
        "id": "a22AcSAvXap5"
      },
      "source": [
        ""
      ],
      "execution_count": 85,
      "outputs": []
    }
  ]
}